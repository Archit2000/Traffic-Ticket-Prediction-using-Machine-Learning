{
 "cells": [
  {
   "cell_type": "markdown",
   "id": "a9eafbf9",
   "metadata": {},
   "source": [
    "https://www.youtube.com/watch?v=CbTU92pbDKw\n",
    "https://colab.research.google.com/drive/1Bk4zPQwAfzoSHZokKUefKL1s6lqmam6S?usp=sharing#scrollTo=-0LJeyey_o6t"
   ]
  },
  {
   "cell_type": "code",
   "execution_count": 138,
   "id": "8090243b",
   "metadata": {},
   "outputs": [],
   "source": [
    "import pandas as pd\n",
    "import numpy as np\n",
    "import seaborn as sn"
   ]
  },
  {
   "cell_type": "code",
   "execution_count": 139,
   "id": "4d29eaac",
   "metadata": {},
   "outputs": [],
   "source": [
    "df = pd.read_csv('ticket data.csv',index_col=0)"
   ]
  },
  {
   "cell_type": "code",
   "execution_count": 140,
   "id": "edbca617",
   "metadata": {},
   "outputs": [
    {
     "name": "stdout",
     "output_type": "stream",
     "text": [
      "<class 'pandas.core.frame.DataFrame'>\n",
      "Int64Index: 637 entries, 0 to 636\n",
      "Data columns (total 2 columns):\n",
      " #   Column  Non-Null Count  Dtype \n",
      "---  ------  --------------  ----- \n",
      " 0   Date    637 non-null    object\n",
      " 1   Count   637 non-null    int64 \n",
      "dtypes: int64(1), object(1)\n",
      "memory usage: 14.9+ KB\n"
     ]
    }
   ],
   "source": [
    "df.info()"
   ]
  },
  {
   "cell_type": "code",
   "execution_count": 141,
   "id": "cbcd1853",
   "metadata": {},
   "outputs": [
    {
     "data": {
      "text/plain": [
       "datetime.datetime(2022, 7, 1, 10, 34, 56)"
      ]
     },
     "execution_count": 141,
     "metadata": {},
     "output_type": "execute_result"
    }
   ],
   "source": [
    "import datetime\n",
    "\n",
    "def str_to_datetime(s):\n",
    "    split_temp = s.split(' ')\n",
    "    date = split_temp[0].split('/')\n",
    "    time = []\n",
    "    time.append(split_temp[1][0:2])\n",
    "    time.append(split_temp[1][3:5])\n",
    "    time.append(split_temp[1][6:8])\n",
    "    year, month, day = int('20' + date[0]), int(date[1]), int(date[2])\n",
    "    hour, minutes, seconds = int(time[0]), int(time[1]), int(time[2])\n",
    "    return datetime.datetime(year=year, month=month, day=day, hour=hour,minute=minutes,second=seconds)\n",
    "\n",
    "datetime_object = str_to_datetime('22/07/01 10:34:56')\n",
    "datetime_object"
   ]
  },
  {
   "cell_type": "code",
   "execution_count": 142,
   "id": "209e6607",
   "metadata": {},
   "outputs": [
    {
     "data": {
      "text/plain": [
       "0     2022-07-01 00:00:00\n",
       "1     2022-07-01 01:00:00\n",
       "2     2022-07-01 02:00:00\n",
       "3     2022-07-01 03:00:00\n",
       "4     2022-07-01 04:00:00\n",
       "              ...        \n",
       "632   2022-07-27 22:00:00\n",
       "633   2022-07-30 00:00:00\n",
       "634   2022-07-30 03:00:00\n",
       "635   2022-07-30 18:00:00\n",
       "636   2022-07-30 21:00:00\n",
       "Name: Date, Length: 637, dtype: datetime64[ns]"
      ]
     },
     "execution_count": 142,
     "metadata": {},
     "output_type": "execute_result"
    }
   ],
   "source": [
    "df['Date'] = df['Date'].apply(str_to_datetime)\n",
    "df['Date']"
   ]
  },
  {
   "cell_type": "code",
   "execution_count": 143,
   "id": "8b077c04",
   "metadata": {},
   "outputs": [
    {
     "data": {
      "text/html": [
       "<div>\n",
       "<style scoped>\n",
       "    .dataframe tbody tr th:only-of-type {\n",
       "        vertical-align: middle;\n",
       "    }\n",
       "\n",
       "    .dataframe tbody tr th {\n",
       "        vertical-align: top;\n",
       "    }\n",
       "\n",
       "    .dataframe thead th {\n",
       "        text-align: right;\n",
       "    }\n",
       "</style>\n",
       "<table border=\"1\" class=\"dataframe\">\n",
       "  <thead>\n",
       "    <tr style=\"text-align: right;\">\n",
       "      <th></th>\n",
       "      <th>Count</th>\n",
       "    </tr>\n",
       "    <tr>\n",
       "      <th>Date</th>\n",
       "      <th></th>\n",
       "    </tr>\n",
       "  </thead>\n",
       "  <tbody>\n",
       "    <tr>\n",
       "      <th>2022-07-01 00:00:00</th>\n",
       "      <td>362</td>\n",
       "    </tr>\n",
       "    <tr>\n",
       "      <th>2022-07-01 01:00:00</th>\n",
       "      <td>486</td>\n",
       "    </tr>\n",
       "    <tr>\n",
       "      <th>2022-07-01 02:00:00</th>\n",
       "      <td>363</td>\n",
       "    </tr>\n",
       "    <tr>\n",
       "      <th>2022-07-01 03:00:00</th>\n",
       "      <td>225</td>\n",
       "    </tr>\n",
       "    <tr>\n",
       "      <th>2022-07-01 04:00:00</th>\n",
       "      <td>116</td>\n",
       "    </tr>\n",
       "  </tbody>\n",
       "</table>\n",
       "</div>"
      ],
      "text/plain": [
       "                     Count\n",
       "Date                      \n",
       "2022-07-01 00:00:00    362\n",
       "2022-07-01 01:00:00    486\n",
       "2022-07-01 02:00:00    363\n",
       "2022-07-01 03:00:00    225\n",
       "2022-07-01 04:00:00    116"
      ]
     },
     "execution_count": 143,
     "metadata": {},
     "output_type": "execute_result"
    }
   ],
   "source": [
    "df.index = df.pop('Date')\n",
    "df.head()"
   ]
  },
  {
   "cell_type": "code",
   "execution_count": 144,
   "id": "8abfc9fb",
   "metadata": {},
   "outputs": [
    {
     "data": {
      "text/html": [
       "<div>\n",
       "<style scoped>\n",
       "    .dataframe tbody tr th:only-of-type {\n",
       "        vertical-align: middle;\n",
       "    }\n",
       "\n",
       "    .dataframe tbody tr th {\n",
       "        vertical-align: top;\n",
       "    }\n",
       "\n",
       "    .dataframe thead th {\n",
       "        text-align: right;\n",
       "    }\n",
       "</style>\n",
       "<table border=\"1\" class=\"dataframe\">\n",
       "  <thead>\n",
       "    <tr style=\"text-align: right;\">\n",
       "      <th></th>\n",
       "      <th>Target</th>\n",
       "      <th>Target-1</th>\n",
       "      <th>Target-2</th>\n",
       "      <th>Target-3</th>\n",
       "    </tr>\n",
       "    <tr>\n",
       "      <th>Date</th>\n",
       "      <th></th>\n",
       "      <th></th>\n",
       "      <th></th>\n",
       "      <th></th>\n",
       "    </tr>\n",
       "  </thead>\n",
       "  <tbody>\n",
       "    <tr>\n",
       "      <th>2022-07-01 00:00:00</th>\n",
       "      <td>362</td>\n",
       "      <td>0</td>\n",
       "      <td>0</td>\n",
       "      <td>0</td>\n",
       "    </tr>\n",
       "    <tr>\n",
       "      <th>2022-07-01 01:00:00</th>\n",
       "      <td>486</td>\n",
       "      <td>0</td>\n",
       "      <td>0</td>\n",
       "      <td>0</td>\n",
       "    </tr>\n",
       "    <tr>\n",
       "      <th>2022-07-01 02:00:00</th>\n",
       "      <td>363</td>\n",
       "      <td>0</td>\n",
       "      <td>0</td>\n",
       "      <td>0</td>\n",
       "    </tr>\n",
       "    <tr>\n",
       "      <th>2022-07-01 03:00:00</th>\n",
       "      <td>225</td>\n",
       "      <td>0</td>\n",
       "      <td>0</td>\n",
       "      <td>0</td>\n",
       "    </tr>\n",
       "    <tr>\n",
       "      <th>2022-07-01 04:00:00</th>\n",
       "      <td>116</td>\n",
       "      <td>0</td>\n",
       "      <td>0</td>\n",
       "      <td>0</td>\n",
       "    </tr>\n",
       "    <tr>\n",
       "      <th>...</th>\n",
       "      <td>...</td>\n",
       "      <td>...</td>\n",
       "      <td>...</td>\n",
       "      <td>...</td>\n",
       "    </tr>\n",
       "    <tr>\n",
       "      <th>2022-07-27 22:00:00</th>\n",
       "      <td>1</td>\n",
       "      <td>0</td>\n",
       "      <td>0</td>\n",
       "      <td>0</td>\n",
       "    </tr>\n",
       "    <tr>\n",
       "      <th>2022-07-30 00:00:00</th>\n",
       "      <td>1</td>\n",
       "      <td>0</td>\n",
       "      <td>0</td>\n",
       "      <td>0</td>\n",
       "    </tr>\n",
       "    <tr>\n",
       "      <th>2022-07-30 03:00:00</th>\n",
       "      <td>1</td>\n",
       "      <td>0</td>\n",
       "      <td>0</td>\n",
       "      <td>0</td>\n",
       "    </tr>\n",
       "    <tr>\n",
       "      <th>2022-07-30 18:00:00</th>\n",
       "      <td>1</td>\n",
       "      <td>0</td>\n",
       "      <td>0</td>\n",
       "      <td>0</td>\n",
       "    </tr>\n",
       "    <tr>\n",
       "      <th>2022-07-30 21:00:00</th>\n",
       "      <td>1</td>\n",
       "      <td>0</td>\n",
       "      <td>0</td>\n",
       "      <td>0</td>\n",
       "    </tr>\n",
       "  </tbody>\n",
       "</table>\n",
       "<p>637 rows × 4 columns</p>\n",
       "</div>"
      ],
      "text/plain": [
       "                     Target  Target-1  Target-2  Target-3\n",
       "Date                                                     \n",
       "2022-07-01 00:00:00     362         0         0         0\n",
       "2022-07-01 01:00:00     486         0         0         0\n",
       "2022-07-01 02:00:00     363         0         0         0\n",
       "2022-07-01 03:00:00     225         0         0         0\n",
       "2022-07-01 04:00:00     116         0         0         0\n",
       "...                     ...       ...       ...       ...\n",
       "2022-07-27 22:00:00       1         0         0         0\n",
       "2022-07-30 00:00:00       1         0         0         0\n",
       "2022-07-30 03:00:00       1         0         0         0\n",
       "2022-07-30 18:00:00       1         0         0         0\n",
       "2022-07-30 21:00:00       1         0         0         0\n",
       "\n",
       "[637 rows x 4 columns]"
      ]
     },
     "execution_count": 144,
     "metadata": {},
     "output_type": "execute_result"
    }
   ],
   "source": [
    "window_df=df[[\"Count\"]]\n",
    "window_df.rename(columns = {'Count':'Target'}, inplace = True)\n",
    "window_df[\"Target-1\"] = 0\n",
    "window_df[\"Target-2\"] = 0\n",
    "window_df[\"Target-3\"] = 0\n",
    "window_df"
   ]
  },
  {
   "cell_type": "code",
   "execution_count": 145,
   "id": "ed1feb9f",
   "metadata": {},
   "outputs": [
    {
     "data": {
      "text/plain": [
       "362"
      ]
     },
     "execution_count": 145,
     "metadata": {},
     "output_type": "execute_result"
    }
   ],
   "source": [
    "window_df.iloc[0]['Target']"
   ]
  },
  {
   "cell_type": "code",
   "execution_count": 146,
   "id": "8b68dcd7",
   "metadata": {},
   "outputs": [],
   "source": [
    "for row in range(0,len(window_df)):\n",
    "    try:\n",
    "        window_df.iloc[row,1] = window_df.iloc[row-1,0]\n",
    "    except:\n",
    "        print('Skip')\n",
    "    try:\n",
    "        window_df.iloc[row,2] = window_df.iloc[row-1,1]\n",
    "    except:\n",
    "        print('Skip')\n",
    "    try:\n",
    "        window_df.iloc[row,3] = window_df.iloc[row-1,2]\n",
    "    except:\n",
    "        print('Skip')"
   ]
  },
  {
   "cell_type": "code",
   "execution_count": 151,
   "id": "cc863822",
   "metadata": {},
   "outputs": [
    {
     "data": {
      "text/html": [
       "<div>\n",
       "<style scoped>\n",
       "    .dataframe tbody tr th:only-of-type {\n",
       "        vertical-align: middle;\n",
       "    }\n",
       "\n",
       "    .dataframe tbody tr th {\n",
       "        vertical-align: top;\n",
       "    }\n",
       "\n",
       "    .dataframe thead th {\n",
       "        text-align: right;\n",
       "    }\n",
       "</style>\n",
       "<table border=\"1\" class=\"dataframe\">\n",
       "  <thead>\n",
       "    <tr style=\"text-align: right;\">\n",
       "      <th></th>\n",
       "      <th>Target</th>\n",
       "      <th>Target-1</th>\n",
       "      <th>Target-2</th>\n",
       "      <th>Target-3</th>\n",
       "    </tr>\n",
       "    <tr>\n",
       "      <th>Date</th>\n",
       "      <th></th>\n",
       "      <th></th>\n",
       "      <th></th>\n",
       "      <th></th>\n",
       "    </tr>\n",
       "  </thead>\n",
       "  <tbody>\n",
       "    <tr>\n",
       "      <th>2022-07-01 00:00:00</th>\n",
       "      <td>362</td>\n",
       "      <td>1</td>\n",
       "      <td>0</td>\n",
       "      <td>0</td>\n",
       "    </tr>\n",
       "    <tr>\n",
       "      <th>2022-07-01 01:00:00</th>\n",
       "      <td>486</td>\n",
       "      <td>362</td>\n",
       "      <td>1</td>\n",
       "      <td>0</td>\n",
       "    </tr>\n",
       "    <tr>\n",
       "      <th>2022-07-01 02:00:00</th>\n",
       "      <td>363</td>\n",
       "      <td>486</td>\n",
       "      <td>362</td>\n",
       "      <td>1</td>\n",
       "    </tr>\n",
       "    <tr>\n",
       "      <th>2022-07-01 03:00:00</th>\n",
       "      <td>225</td>\n",
       "      <td>363</td>\n",
       "      <td>486</td>\n",
       "      <td>362</td>\n",
       "    </tr>\n",
       "    <tr>\n",
       "      <th>2022-07-01 04:00:00</th>\n",
       "      <td>116</td>\n",
       "      <td>225</td>\n",
       "      <td>363</td>\n",
       "      <td>486</td>\n",
       "    </tr>\n",
       "  </tbody>\n",
       "</table>\n",
       "</div>"
      ],
      "text/plain": [
       "                     Target  Target-1  Target-2  Target-3\n",
       "Date                                                     \n",
       "2022-07-01 00:00:00     362         1         0         0\n",
       "2022-07-01 01:00:00     486       362         1         0\n",
       "2022-07-01 02:00:00     363       486       362         1\n",
       "2022-07-01 03:00:00     225       363       486       362\n",
       "2022-07-01 04:00:00     116       225       363       486"
      ]
     },
     "execution_count": 151,
     "metadata": {},
     "output_type": "execute_result"
    }
   ],
   "source": [
    "window_df.head()"
   ]
  },
  {
   "cell_type": "code",
   "execution_count": null,
   "id": "557b0a6e",
   "metadata": {},
   "outputs": [],
   "source": []
  }
 ],
 "metadata": {
  "kernelspec": {
   "display_name": "Python 3 (ipykernel)",
   "language": "python",
   "name": "python3"
  },
  "language_info": {
   "codemirror_mode": {
    "name": "ipython",
    "version": 3
   },
   "file_extension": ".py",
   "mimetype": "text/x-python",
   "name": "python",
   "nbconvert_exporter": "python",
   "pygments_lexer": "ipython3",
   "version": "3.9.12"
  }
 },
 "nbformat": 4,
 "nbformat_minor": 5
}
