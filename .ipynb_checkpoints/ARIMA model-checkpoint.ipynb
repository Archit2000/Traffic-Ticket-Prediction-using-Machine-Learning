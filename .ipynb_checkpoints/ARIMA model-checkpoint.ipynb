{
 "cells": [
  {
   "cell_type": "markdown",
   "id": "894a6c9b",
   "metadata": {},
   "source": [
    "https://www.youtube.com/watch?v=8FCDpFhd1zk"
   ]
  },
  {
   "cell_type": "code",
   "execution_count": 166,
   "id": "03df62dd",
   "metadata": {},
   "outputs": [],
   "source": [
    "import pandas as pd\n",
    "import numpy as np\n",
    "import seaborn as sn\n",
    "import matplotlib.pyplot as plt\n",
    "from pmdarima import auto_arima\n",
    "from statsmodels.tsa.stattools import adfuller\n",
    "from statsmodels.tsa.arima.model import ARIMA\n",
    "#import statsmodels.api as sm\n",
    "import datetime"
   ]
  },
  {
   "cell_type": "code",
   "execution_count": 167,
   "id": "5df7cf0d",
   "metadata": {},
   "outputs": [],
   "source": [
    "def str_to_datetime(s):\n",
    "    split_temp = s.split(' ')\n",
    "    date = split_temp[0].split('/')\n",
    "    time = []\n",
    "    time.append(split_temp[1][0:2])\n",
    "    time.append(split_temp[1][3:5])\n",
    "    time.append(split_temp[1][6:8])\n",
    "    year, month, day = int('20' + date[0]), int(date[1]), int(date[2])\n",
    "    hour, minutes, seconds = int(time[0]), int(time[1]), int(time[2])\n",
    "    return datetime.datetime(year=year, month=month, day=day, hour=hour,minute=minutes,second=seconds)"
   ]
  },
  {
   "cell_type": "code",
   "execution_count": 168,
   "id": "d4d65b04",
   "metadata": {},
   "outputs": [],
   "source": [
    "df = pd.read_csv('ticket data.csv',index_col=0)\n",
    "df['Date'] = df['Date'].apply(str_to_datetime)\n",
    "df.index = df.pop('Date')"
   ]
  },
  {
   "cell_type": "code",
   "execution_count": 169,
   "id": "cfea31d7",
   "metadata": {},
   "outputs": [
    {
     "data": {
      "text/html": [
       "<div>\n",
       "<style scoped>\n",
       "    .dataframe tbody tr th:only-of-type {\n",
       "        vertical-align: middle;\n",
       "    }\n",
       "\n",
       "    .dataframe tbody tr th {\n",
       "        vertical-align: top;\n",
       "    }\n",
       "\n",
       "    .dataframe thead th {\n",
       "        text-align: right;\n",
       "    }\n",
       "</style>\n",
       "<table border=\"1\" class=\"dataframe\">\n",
       "  <thead>\n",
       "    <tr style=\"text-align: right;\">\n",
       "      <th></th>\n",
       "      <th>Count</th>\n",
       "    </tr>\n",
       "    <tr>\n",
       "      <th>Date</th>\n",
       "      <th></th>\n",
       "    </tr>\n",
       "  </thead>\n",
       "  <tbody>\n",
       "    <tr>\n",
       "      <th>2022-07-01 00:00</th>\n",
       "      <td>362</td>\n",
       "    </tr>\n",
       "    <tr>\n",
       "      <th>2022-07-01 01:00</th>\n",
       "      <td>486</td>\n",
       "    </tr>\n",
       "    <tr>\n",
       "      <th>2022-07-01 02:00</th>\n",
       "      <td>363</td>\n",
       "    </tr>\n",
       "    <tr>\n",
       "      <th>2022-07-01 03:00</th>\n",
       "      <td>225</td>\n",
       "    </tr>\n",
       "    <tr>\n",
       "      <th>2022-07-01 04:00</th>\n",
       "      <td>116</td>\n",
       "    </tr>\n",
       "  </tbody>\n",
       "</table>\n",
       "</div>"
      ],
      "text/plain": [
       "                  Count\n",
       "Date                   \n",
       "2022-07-01 00:00    362\n",
       "2022-07-01 01:00    486\n",
       "2022-07-01 02:00    363\n",
       "2022-07-01 03:00    225\n",
       "2022-07-01 04:00    116"
      ]
     },
     "execution_count": 169,
     "metadata": {},
     "output_type": "execute_result"
    }
   ],
   "source": [
    "df.index = pd.DatetimeIndex(df.index).to_period(freq='H')\n",
    "df.head()"
   ]
  },
  {
   "cell_type": "code",
   "execution_count": 170,
   "id": "c8e43499",
   "metadata": {},
   "outputs": [
    {
     "data": {
      "text/html": [
       "<div>\n",
       "<style scoped>\n",
       "    .dataframe tbody tr th:only-of-type {\n",
       "        vertical-align: middle;\n",
       "    }\n",
       "\n",
       "    .dataframe tbody tr th {\n",
       "        vertical-align: top;\n",
       "    }\n",
       "\n",
       "    .dataframe thead th {\n",
       "        text-align: right;\n",
       "    }\n",
       "</style>\n",
       "<table border=\"1\" class=\"dataframe\">\n",
       "  <thead>\n",
       "    <tr style=\"text-align: right;\">\n",
       "      <th></th>\n",
       "      <th>Count</th>\n",
       "    </tr>\n",
       "    <tr>\n",
       "      <th>Date</th>\n",
       "      <th></th>\n",
       "    </tr>\n",
       "  </thead>\n",
       "  <tbody>\n",
       "    <tr>\n",
       "      <th>2022-07-01 00:00</th>\n",
       "      <td>362</td>\n",
       "    </tr>\n",
       "    <tr>\n",
       "      <th>2022-07-01 01:00</th>\n",
       "      <td>486</td>\n",
       "    </tr>\n",
       "    <tr>\n",
       "      <th>2022-07-01 02:00</th>\n",
       "      <td>363</td>\n",
       "    </tr>\n",
       "    <tr>\n",
       "      <th>2022-07-01 03:00</th>\n",
       "      <td>225</td>\n",
       "    </tr>\n",
       "    <tr>\n",
       "      <th>2022-07-01 04:00</th>\n",
       "      <td>116</td>\n",
       "    </tr>\n",
       "    <tr>\n",
       "      <th>2022-07-01 05:00</th>\n",
       "      <td>416</td>\n",
       "    </tr>\n",
       "    <tr>\n",
       "      <th>2022-07-01 06:00</th>\n",
       "      <td>1050</td>\n",
       "    </tr>\n",
       "    <tr>\n",
       "      <th>2022-07-01 07:00</th>\n",
       "      <td>2119</td>\n",
       "    </tr>\n",
       "    <tr>\n",
       "      <th>2022-07-01 08:00</th>\n",
       "      <td>4318</td>\n",
       "    </tr>\n",
       "    <tr>\n",
       "      <th>2022-07-01 09:00</th>\n",
       "      <td>4097</td>\n",
       "    </tr>\n",
       "  </tbody>\n",
       "</table>\n",
       "</div>"
      ],
      "text/plain": [
       "                  Count\n",
       "Date                   \n",
       "2022-07-01 00:00    362\n",
       "2022-07-01 01:00    486\n",
       "2022-07-01 02:00    363\n",
       "2022-07-01 03:00    225\n",
       "2022-07-01 04:00    116\n",
       "2022-07-01 05:00    416\n",
       "2022-07-01 06:00   1050\n",
       "2022-07-01 07:00   2119\n",
       "2022-07-01 08:00   4318\n",
       "2022-07-01 09:00   4097"
      ]
     },
     "execution_count": 170,
     "metadata": {},
     "output_type": "execute_result"
    }
   ],
   "source": [
    "df = df[:-5]\n",
    "df.head(10)"
   ]
  },
  {
   "cell_type": "code",
   "execution_count": 171,
   "id": "a3536ea7",
   "metadata": {},
   "outputs": [
    {
     "data": {
      "text/plain": [
       "<AxesSubplot:xlabel='Date'>"
      ]
     },
     "execution_count": 171,
     "metadata": {},
     "output_type": "execute_result"
    },
    {
     "data": {
      "image/png": "[encoded data removed]",
      "text/plain": [
       "<Figure size 864x360 with 1 Axes>"
      ]
     },
     "metadata": {
      "needs_background": "light"
     },
     "output_type": "display_data"
    }
   ],
   "source": [
    "df['Count'].plot(figsize=(12,5))"
   ]
  },
  {
   "cell_type": "code",
   "execution_count": 172,
   "id": "ff9d2158",
   "metadata": {},
   "outputs": [
    {
     "name": "stdout",
     "output_type": "stream",
     "text": [
      "1. ADF :  -3.0316222520094973\n",
      "2. P-Value :  0.03204496049637073\n",
      "3. Num Of Lags :  20\n",
      "4. Num Of Observations Used For ADF Regression: 611\n",
      "5. Critical Values :\n",
      "\t 1% :  -3.4410979308822967\n",
      "\t 5% :  -2.8662819588823423\n",
      "\t 10% :  -2.5692953639629166\n"
     ]
    }
   ],
   "source": [
    "def ad_test(dataset):\n",
    "     dftest = adfuller(dataset, autolag = 'AIC')\n",
    "     print(\"1. ADF : \",dftest[0])\n",
    "     print(\"2. P-Value : \", dftest[1])\n",
    "     print(\"3. Num Of Lags : \", dftest[2])\n",
    "     print(\"4. Num Of Observations Used For ADF Regression:\",      dftest[3])\n",
    "     print(\"5. Critical Values :\")\n",
    "     for key, val in dftest[4].items():\n",
    "         print(\"\\t\",key, \": \", val)\n",
    "ad_test(df['Count'])"
   ]
  },
  {
   "cell_type": "code",
   "execution_count": 173,
   "id": "037c7669",
   "metadata": {},
   "outputs": [
    {
     "name": "stdout",
     "output_type": "stream",
     "text": [
      "Performing stepwise search to minimize aic\n",
      " ARIMA(2,0,2)(0,0,0)[0] intercept   : AIC=9785.740, Time=0.52 sec\n",
      " ARIMA(0,0,0)(0,0,0)[0] intercept   : AIC=10786.245, Time=0.03 sec\n",
      " ARIMA(1,0,0)(0,0,0)[0] intercept   : AIC=9837.723, Time=0.09 sec\n",
      " ARIMA(0,0,1)(0,0,0)[0] intercept   : AIC=10181.833, Time=0.50 sec\n",
      " ARIMA(0,0,0)(0,0,0)[0]             : AIC=11111.100, Time=0.04 sec\n",
      " ARIMA(1,0,2)(0,0,0)[0] intercept   : AIC=9795.152, Time=0.28 sec\n",
      " ARIMA(2,0,1)(0,0,0)[0] intercept   : AIC=9771.545, Time=0.99 sec\n",
      " ARIMA(1,0,1)(0,0,0)[0] intercept   : AIC=9799.646, Time=0.22 sec\n",
      " ARIMA(2,0,0)(0,0,0)[0] intercept   : AIC=9801.780, Time=0.23 sec\n",
      " ARIMA(3,0,1)(0,0,0)[0] intercept   : AIC=9780.984, Time=1.36 sec\n",
      " ARIMA(3,0,0)(0,0,0)[0] intercept   : AIC=9803.571, Time=0.26 sec\n",
      " ARIMA(3,0,2)(0,0,0)[0] intercept   : AIC=inf, Time=1.76 sec\n",
      " ARIMA(2,0,1)(0,0,0)[0]             : AIC=9798.849, Time=0.47 sec\n",
      "\n",
      "Best model:  ARIMA(2,0,1)(0,0,0)[0] intercept\n",
      "Total fit time: 6.762 seconds\n"
     ]
    }
   ],
   "source": [
    "stepwise_fit = auto_arima(df['Count'], trace=True,suppress_warnings=True)"
   ]
  },
  {
   "cell_type": "code",
   "execution_count": 174,
   "id": "752bff3a",
   "metadata": {},
   "outputs": [
    {
     "name": "stdout",
     "output_type": "stream",
     "text": [
      "(632, 1)\n",
      "(612, 1) (20, 1)\n"
     ]
    }
   ],
   "source": [
    "print(df.shape)\n",
    "train=df.iloc[:-20]\n",
    "test=df.iloc[-20:]\n",
    "print(train.shape,test.shape)"
   ]
  },
  {
   "cell_type": "code",
   "execution_count": 175,
   "id": "3126cc32",
   "metadata": {},
   "outputs": [
    {
     "data": {
      "text/html": [
       "<table class=\"simpletable\">\n",
       "<caption>SARIMAX Results</caption>\n",
       "<tr>\n",
       "  <th>Dep. Variable:</th>         <td>Count</td>      <th>  No. Observations:  </th>    <td>612</td>   \n",
       "</tr>\n",
       "<tr>\n",
       "  <th>Model:</th>            <td>ARIMA(2, 0, 1)</td>  <th>  Log Likelihood     </th> <td>-4734.289</td>\n",
       "</tr>\n",
       "<tr>\n",
       "  <th>Date:</th>            <td>Tue, 04 Oct 2022</td> <th>  AIC                </th> <td>9478.579</td> \n",
       "</tr>\n",
       "<tr>\n",
       "  <th>Time:</th>                <td>18:47:03</td>     <th>  BIC                </th> <td>9500.663</td> \n",
       "</tr>\n",
       "<tr>\n",
       "  <th>Sample:</th>             <td>07-01-2022</td>    <th>  HQIC               </th> <td>9487.168</td> \n",
       "</tr>\n",
       "<tr>\n",
       "  <th></th>                   <td>- 07-26-2022</td>   <th>                     </th>     <td> </td>    \n",
       "</tr>\n",
       "<tr>\n",
       "  <th>Covariance Type:</th>        <td>opg</td>       <th>                     </th>     <td> </td>    \n",
       "</tr>\n",
       "</table>\n",
       "<table class=\"simpletable\">\n",
       "<tr>\n",
       "     <td></td>       <th>coef</th>     <th>std err</th>      <th>z</th>      <th>P>|z|</th>  <th>[0.025</th>    <th>0.975]</th>  \n",
       "</tr>\n",
       "<tr>\n",
       "  <th>const</th>  <td> 1033.1248</td> <td>  158.063</td> <td>    6.536</td> <td> 0.000</td> <td>  723.327</td> <td> 1342.922</td>\n",
       "</tr>\n",
       "<tr>\n",
       "  <th>ar.L1</th>  <td>    1.7762</td> <td>    0.056</td> <td>   31.819</td> <td> 0.000</td> <td>    1.667</td> <td>    1.886</td>\n",
       "</tr>\n",
       "<tr>\n",
       "  <th>ar.L2</th>  <td>   -0.8374</td> <td>    0.051</td> <td>  -16.327</td> <td> 0.000</td> <td>   -0.938</td> <td>   -0.737</td>\n",
       "</tr>\n",
       "<tr>\n",
       "  <th>ma.L1</th>  <td>   -0.7880</td> <td>    0.068</td> <td>  -11.528</td> <td> 0.000</td> <td>   -0.922</td> <td>   -0.654</td>\n",
       "</tr>\n",
       "<tr>\n",
       "  <th>sigma2</th> <td> 3.058e+05</td> <td> 1.24e+04</td> <td>   24.698</td> <td> 0.000</td> <td> 2.81e+05</td> <td>  3.3e+05</td>\n",
       "</tr>\n",
       "</table>\n",
       "<table class=\"simpletable\">\n",
       "<tr>\n",
       "  <th>Ljung-Box (L1) (Q):</th>     <td>0.55</td> <th>  Jarque-Bera (JB):  </th> <td>1053.11</td>\n",
       "</tr>\n",
       "<tr>\n",
       "  <th>Prob(Q):</th>                <td>0.46</td> <th>  Prob(JB):          </th>  <td>0.00</td>  \n",
       "</tr>\n",
       "<tr>\n",
       "  <th>Heteroskedasticity (H):</th> <td>1.27</td> <th>  Skew:              </th>  <td>1.38</td>  \n",
       "</tr>\n",
       "<tr>\n",
       "  <th>Prob(H) (two-sided):</th>    <td>0.09</td> <th>  Kurtosis:          </th>  <td>8.81</td>  \n",
       "</tr>\n",
       "</table><br/><br/>Warnings:<br/>[1] Covariance matrix calculated using the outer product of gradients (complex-step)."
      ],
      "text/plain": [
       "<class 'statsmodels.iolib.summary.Summary'>\n",
       "\"\"\"\n",
       "                               SARIMAX Results                                \n",
       "==============================================================================\n",
       "Dep. Variable:                  Count   No. Observations:                  612\n",
       "Model:                 ARIMA(2, 0, 1)   Log Likelihood               -4734.289\n",
       "Date:                Tue, 04 Oct 2022   AIC                           9478.579\n",
       "Time:                        18:47:03   BIC                           9500.663\n",
       "Sample:                    07-01-2022   HQIC                          9487.168\n",
       "                         - 07-26-2022                                         \n",
       "Covariance Type:                  opg                                         \n",
       "==============================================================================\n",
       "                 coef    std err          z      P>|z|      [0.025      0.975]\n",
       "------------------------------------------------------------------------------\n",
       "const       1033.1248    158.063      6.536      0.000     723.327    1342.922\n",
       "ar.L1          1.7762      0.056     31.819      0.000       1.667       1.886\n",
       "ar.L2         -0.8374      0.051    -16.327      0.000      -0.938      -0.737\n",
       "ma.L1         -0.7880      0.068    -11.528      0.000      -0.922      -0.654\n",
       "sigma2      3.058e+05   1.24e+04     24.698      0.000    2.81e+05     3.3e+05\n",
       "===================================================================================\n",
       "Ljung-Box (L1) (Q):                   0.55   Jarque-Bera (JB):              1053.11\n",
       "Prob(Q):                              0.46   Prob(JB):                         0.00\n",
       "Heteroskedasticity (H):               1.27   Skew:                             1.38\n",
       "Prob(H) (two-sided):                  0.09   Kurtosis:                         8.81\n",
       "===================================================================================\n",
       "\n",
       "Warnings:\n",
       "[1] Covariance matrix calculated using the outer product of gradients (complex-step).\n",
       "\"\"\""
      ]
     },
     "execution_count": 175,
     "metadata": {},
     "output_type": "execute_result"
    }
   ],
   "source": [
    "model = ARIMA(train['Count'],order=(2,0,1))\n",
    "model=model.fit()\n",
    "model.summary()"
   ]
  },
  {
   "cell_type": "code",
   "execution_count": 176,
   "id": "4dc32e34",
   "metadata": {},
   "outputs": [
    {
     "data": {
      "text/plain": [
       "<AxesSubplot:xlabel='Date'>"
      ]
     },
     "execution_count": 176,
     "metadata": {},
     "output_type": "execute_result"
    },
    {
     "data": {
      "image/png": "[encoded data removed]",
      "text/plain": [
       "<Figure size 432x288 with 1 Axes>"
      ]
     },
     "metadata": {
      "needs_background": "light"
     },
     "output_type": "display_data"
    }
   ],
   "source": [
    "start=len(train)\n",
    "end=len(train)+len(test)-1\n",
    "pred=model.predict(start=start,end=end,typ='levels').rename('ARIMA Predictions')\n",
    "pred.plot(legend=True)\n",
    "test['Count'].plot(legend=True)"
   ]
  },
  {
   "cell_type": "code",
   "execution_count": 177,
   "id": "b17a3e0b",
   "metadata": {},
   "outputs": [
    {
     "name": "stdout",
     "output_type": "stream",
     "text": [
      "710.1141774565352\n"
     ]
    }
   ],
   "source": [
    "from sklearn.metrics import mean_squared_error\n",
    "from math import sqrt\n",
    "test['Count'].mean()\n",
    "rmse=sqrt(mean_squared_error(pred,test['Count']))\n",
    "print(rmse)"
   ]
  },
  {
   "cell_type": "code",
   "execution_count": null,
   "id": "e7fbac27",
   "metadata": {},
   "outputs": [],
   "source": []
  }
 ],
 "metadata": {
  "kernelspec": {
   "display_name": "Python 3 (ipykernel)",
   "language": "python",
   "name": "python3"
  },
  "language_info": {
   "codemirror_mode": {
    "name": "ipython",
    "version": 3
   },
   "file_extension": ".py",
   "mimetype": "text/x-python",
   "name": "python",
   "nbconvert_exporter": "python",
   "pygments_lexer": "ipython3",
   "version": "3.9.12"
  }
 },
 "nbformat": 4,
 "nbformat_minor": 5
}
