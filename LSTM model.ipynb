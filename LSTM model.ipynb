{
 "cells": [
  {
   "cell_type": "markdown",
   "id": "a9eafbf9",
   "metadata": {},
   "source": [
    "https://www.youtube.com/watch?v=CbTU92pbDKw\n",
    "https://colab.research.google.com/drive/1Bk4zPQwAfzoSHZokKUefKL1s6lqmam6S?usp=sharing#scrollTo=-0LJeyey_o6t"
   ]
  },
  {
   "cell_type": "code",
   "execution_count": 21,
   "id": "8090243b",
   "metadata": {},
   "outputs": [],
   "source": [
    "import pandas as pd\n",
    "import numpy as np\n",
    "import seaborn as sn\n",
    "import matplotlib.pyplot as plt"
   ]
  },
  {
   "cell_type": "code",
   "execution_count": 22,
   "id": "4d29eaac",
   "metadata": {},
   "outputs": [],
   "source": [
    "df = pd.read_csv('ticket data.csv',index_col=0)"
   ]
  },
  {
   "cell_type": "code",
   "execution_count": 23,
   "id": "edbca617",
   "metadata": {},
   "outputs": [
    {
     "name": "stdout",
     "output_type": "stream",
     "text": [
      "<class 'pandas.core.frame.DataFrame'>\n",
      "Int64Index: 637 entries, 0 to 636\n",
      "Data columns (total 2 columns):\n",
      " #   Column  Non-Null Count  Dtype \n",
      "---  ------  --------------  ----- \n",
      " 0   Date    637 non-null    object\n",
      " 1   Count   637 non-null    int64 \n",
      "dtypes: int64(1), object(1)\n",
      "memory usage: 14.9+ KB\n"
     ]
    }
   ],
   "source": [
    "df.info()"
   ]
  },
  {
   "cell_type": "code",
   "execution_count": 24,
   "id": "cbcd1853",
   "metadata": {},
   "outputs": [
    {
     "data": {
      "text/plain": [
       "datetime.datetime(2022, 7, 1, 10, 34, 56)"
      ]
     },
     "execution_count": 24,
     "metadata": {},
     "output_type": "execute_result"
    }
   ],
   "source": [
    "import datetime\n",
    "\n",
    "def str_to_datetime(s):\n",
    "    split_temp = s.split(' ')\n",
    "    date = split_temp[0].split('/')\n",
    "    time = []\n",
    "    time.append(split_temp[1][0:2])\n",
    "    time.append(split_temp[1][3:5])\n",
    "    time.append(split_temp[1][6:8])\n",
    "    year, month, day = int('20' + date[0]), int(date[1]), int(date[2])\n",
    "    hour, minutes, seconds = int(time[0]), int(time[1]), int(time[2])\n",
    "    return datetime.datetime(year=year, month=month, day=day, hour=hour,minute=minutes,second=seconds)\n",
    "\n",
    "datetime_object = str_to_datetime('22/07/01 10:34:56')\n",
    "datetime_object"
   ]
  },
  {
   "cell_type": "code",
   "execution_count": 25,
   "id": "209e6607",
   "metadata": {},
   "outputs": [
    {
     "data": {
      "text/plain": [
       "0     2022-07-01 00:00:00\n",
       "1     2022-07-01 01:00:00\n",
       "2     2022-07-01 02:00:00\n",
       "3     2022-07-01 03:00:00\n",
       "4     2022-07-01 04:00:00\n",
       "              ...        \n",
       "632   2022-07-27 22:00:00\n",
       "633   2022-07-30 00:00:00\n",
       "634   2022-07-30 03:00:00\n",
       "635   2022-07-30 18:00:00\n",
       "636   2022-07-30 21:00:00\n",
       "Name: Date, Length: 637, dtype: datetime64[ns]"
      ]
     },
     "execution_count": 25,
     "metadata": {},
     "output_type": "execute_result"
    }
   ],
   "source": [
    "df['Date'] = df['Date'].apply(str_to_datetime)\n",
    "df['Date']"
   ]
  },
  {
   "cell_type": "code",
   "execution_count": 26,
   "id": "8b077c04",
   "metadata": {},
   "outputs": [
    {
     "data": {
      "text/html": [
       "<div>\n",
       "<style scoped>\n",
       "    .dataframe tbody tr th:only-of-type {\n",
       "        vertical-align: middle;\n",
       "    }\n",
       "\n",
       "    .dataframe tbody tr th {\n",
       "        vertical-align: top;\n",
       "    }\n",
       "\n",
       "    .dataframe thead th {\n",
       "        text-align: right;\n",
       "    }\n",
       "</style>\n",
       "<table border=\"1\" class=\"dataframe\">\n",
       "  <thead>\n",
       "    <tr style=\"text-align: right;\">\n",
       "      <th></th>\n",
       "      <th>Count</th>\n",
       "    </tr>\n",
       "    <tr>\n",
       "      <th>Date</th>\n",
       "      <th></th>\n",
       "    </tr>\n",
       "  </thead>\n",
       "  <tbody>\n",
       "    <tr>\n",
       "      <th>2022-07-01 00:00:00</th>\n",
       "      <td>362</td>\n",
       "    </tr>\n",
       "    <tr>\n",
       "      <th>2022-07-01 01:00:00</th>\n",
       "      <td>486</td>\n",
       "    </tr>\n",
       "    <tr>\n",
       "      <th>2022-07-01 02:00:00</th>\n",
       "      <td>363</td>\n",
       "    </tr>\n",
       "    <tr>\n",
       "      <th>2022-07-01 03:00:00</th>\n",
       "      <td>225</td>\n",
       "    </tr>\n",
       "    <tr>\n",
       "      <th>2022-07-01 04:00:00</th>\n",
       "      <td>116</td>\n",
       "    </tr>\n",
       "  </tbody>\n",
       "</table>\n",
       "</div>"
      ],
      "text/plain": [
       "                     Count\n",
       "Date                      \n",
       "2022-07-01 00:00:00    362\n",
       "2022-07-01 01:00:00    486\n",
       "2022-07-01 02:00:00    363\n",
       "2022-07-01 03:00:00    225\n",
       "2022-07-01 04:00:00    116"
      ]
     },
     "execution_count": 26,
     "metadata": {},
     "output_type": "execute_result"
    }
   ],
   "source": [
    "df.index = df.pop('Date')\n",
    "df.head()"
   ]
  },
  {
   "cell_type": "code",
   "execution_count": 27,
   "id": "8abfc9fb",
   "metadata": {},
   "outputs": [
    {
     "data": {
      "text/html": [
       "<div>\n",
       "<style scoped>\n",
       "    .dataframe tbody tr th:only-of-type {\n",
       "        vertical-align: middle;\n",
       "    }\n",
       "\n",
       "    .dataframe tbody tr th {\n",
       "        vertical-align: top;\n",
       "    }\n",
       "\n",
       "    .dataframe thead th {\n",
       "        text-align: right;\n",
       "    }\n",
       "</style>\n",
       "<table border=\"1\" class=\"dataframe\">\n",
       "  <thead>\n",
       "    <tr style=\"text-align: right;\">\n",
       "      <th></th>\n",
       "      <th>Target</th>\n",
       "      <th>Target-1</th>\n",
       "      <th>Target-2</th>\n",
       "      <th>Target-3</th>\n",
       "    </tr>\n",
       "    <tr>\n",
       "      <th>Date</th>\n",
       "      <th></th>\n",
       "      <th></th>\n",
       "      <th></th>\n",
       "      <th></th>\n",
       "    </tr>\n",
       "  </thead>\n",
       "  <tbody>\n",
       "    <tr>\n",
       "      <th>2022-07-01 00:00:00</th>\n",
       "      <td>362</td>\n",
       "      <td>0</td>\n",
       "      <td>0</td>\n",
       "      <td>0</td>\n",
       "    </tr>\n",
       "    <tr>\n",
       "      <th>2022-07-01 01:00:00</th>\n",
       "      <td>486</td>\n",
       "      <td>0</td>\n",
       "      <td>0</td>\n",
       "      <td>0</td>\n",
       "    </tr>\n",
       "    <tr>\n",
       "      <th>2022-07-01 02:00:00</th>\n",
       "      <td>363</td>\n",
       "      <td>0</td>\n",
       "      <td>0</td>\n",
       "      <td>0</td>\n",
       "    </tr>\n",
       "    <tr>\n",
       "      <th>2022-07-01 03:00:00</th>\n",
       "      <td>225</td>\n",
       "      <td>0</td>\n",
       "      <td>0</td>\n",
       "      <td>0</td>\n",
       "    </tr>\n",
       "    <tr>\n",
       "      <th>2022-07-01 04:00:00</th>\n",
       "      <td>116</td>\n",
       "      <td>0</td>\n",
       "      <td>0</td>\n",
       "      <td>0</td>\n",
       "    </tr>\n",
       "    <tr>\n",
       "      <th>...</th>\n",
       "      <td>...</td>\n",
       "      <td>...</td>\n",
       "      <td>...</td>\n",
       "      <td>...</td>\n",
       "    </tr>\n",
       "    <tr>\n",
       "      <th>2022-07-27 22:00:00</th>\n",
       "      <td>1</td>\n",
       "      <td>0</td>\n",
       "      <td>0</td>\n",
       "      <td>0</td>\n",
       "    </tr>\n",
       "    <tr>\n",
       "      <th>2022-07-30 00:00:00</th>\n",
       "      <td>1</td>\n",
       "      <td>0</td>\n",
       "      <td>0</td>\n",
       "      <td>0</td>\n",
       "    </tr>\n",
       "    <tr>\n",
       "      <th>2022-07-30 03:00:00</th>\n",
       "      <td>1</td>\n",
       "      <td>0</td>\n",
       "      <td>0</td>\n",
       "      <td>0</td>\n",
       "    </tr>\n",
       "    <tr>\n",
       "      <th>2022-07-30 18:00:00</th>\n",
       "      <td>1</td>\n",
       "      <td>0</td>\n",
       "      <td>0</td>\n",
       "      <td>0</td>\n",
       "    </tr>\n",
       "    <tr>\n",
       "      <th>2022-07-30 21:00:00</th>\n",
       "      <td>1</td>\n",
       "      <td>0</td>\n",
       "      <td>0</td>\n",
       "      <td>0</td>\n",
       "    </tr>\n",
       "  </tbody>\n",
       "</table>\n",
       "<p>637 rows × 4 columns</p>\n",
       "</div>"
      ],
      "text/plain": [
       "                     Target  Target-1  Target-2  Target-3\n",
       "Date                                                     \n",
       "2022-07-01 00:00:00     362         0         0         0\n",
       "2022-07-01 01:00:00     486         0         0         0\n",
       "2022-07-01 02:00:00     363         0         0         0\n",
       "2022-07-01 03:00:00     225         0         0         0\n",
       "2022-07-01 04:00:00     116         0         0         0\n",
       "...                     ...       ...       ...       ...\n",
       "2022-07-27 22:00:00       1         0         0         0\n",
       "2022-07-30 00:00:00       1         0         0         0\n",
       "2022-07-30 03:00:00       1         0         0         0\n",
       "2022-07-30 18:00:00       1         0         0         0\n",
       "2022-07-30 21:00:00       1         0         0         0\n",
       "\n",
       "[637 rows x 4 columns]"
      ]
     },
     "execution_count": 27,
     "metadata": {},
     "output_type": "execute_result"
    }
   ],
   "source": [
    "window_df=df[[\"Count\"]]\n",
    "window_df.rename(columns = {'Count':'Target'}, inplace = True)\n",
    "window_df[\"Target-1\"] = 0\n",
    "window_df[\"Target-2\"] = 0\n",
    "window_df[\"Target-3\"] = 0\n",
    "window_df"
   ]
  },
  {
   "cell_type": "code",
   "execution_count": 28,
   "id": "ed1feb9f",
   "metadata": {},
   "outputs": [
    {
     "data": {
      "text/plain": [
       "362"
      ]
     },
     "execution_count": 28,
     "metadata": {},
     "output_type": "execute_result"
    }
   ],
   "source": [
    "window_df.iloc[0]['Target']"
   ]
  },
  {
   "cell_type": "code",
   "execution_count": 29,
   "id": "8b68dcd7",
   "metadata": {},
   "outputs": [],
   "source": [
    "for row in range(0,len(window_df)):\n",
    "    try:\n",
    "        window_df.iloc[row,1] = window_df.iloc[row-1,0]\n",
    "    except:\n",
    "        print('Skip')\n",
    "    try:\n",
    "        window_df.iloc[row,2] = window_df.iloc[row-1,1]\n",
    "    except:\n",
    "        print('Skip')\n",
    "    try:\n",
    "        window_df.iloc[row,3] = window_df.iloc[row-1,2]\n",
    "    except:\n",
    "        print('Skip')"
   ]
  },
  {
   "cell_type": "code",
   "execution_count": 30,
   "id": "cc863822",
   "metadata": {},
   "outputs": [
    {
     "data": {
      "text/html": [
       "<div>\n",
       "<style scoped>\n",
       "    .dataframe tbody tr th:only-of-type {\n",
       "        vertical-align: middle;\n",
       "    }\n",
       "\n",
       "    .dataframe tbody tr th {\n",
       "        vertical-align: top;\n",
       "    }\n",
       "\n",
       "    .dataframe thead th {\n",
       "        text-align: right;\n",
       "    }\n",
       "</style>\n",
       "<table border=\"1\" class=\"dataframe\">\n",
       "  <thead>\n",
       "    <tr style=\"text-align: right;\">\n",
       "      <th></th>\n",
       "      <th>Target</th>\n",
       "      <th>Target-1</th>\n",
       "      <th>Target-2</th>\n",
       "      <th>Target-3</th>\n",
       "    </tr>\n",
       "    <tr>\n",
       "      <th>Date</th>\n",
       "      <th></th>\n",
       "      <th></th>\n",
       "      <th></th>\n",
       "      <th></th>\n",
       "    </tr>\n",
       "  </thead>\n",
       "  <tbody>\n",
       "    <tr>\n",
       "      <th>2022-07-01 00:00:00</th>\n",
       "      <td>362</td>\n",
       "      <td>1</td>\n",
       "      <td>0</td>\n",
       "      <td>0</td>\n",
       "    </tr>\n",
       "    <tr>\n",
       "      <th>2022-07-01 01:00:00</th>\n",
       "      <td>486</td>\n",
       "      <td>362</td>\n",
       "      <td>1</td>\n",
       "      <td>0</td>\n",
       "    </tr>\n",
       "    <tr>\n",
       "      <th>2022-07-01 02:00:00</th>\n",
       "      <td>363</td>\n",
       "      <td>486</td>\n",
       "      <td>362</td>\n",
       "      <td>1</td>\n",
       "    </tr>\n",
       "    <tr>\n",
       "      <th>2022-07-01 03:00:00</th>\n",
       "      <td>225</td>\n",
       "      <td>363</td>\n",
       "      <td>486</td>\n",
       "      <td>362</td>\n",
       "    </tr>\n",
       "    <tr>\n",
       "      <th>2022-07-01 04:00:00</th>\n",
       "      <td>116</td>\n",
       "      <td>225</td>\n",
       "      <td>363</td>\n",
       "      <td>486</td>\n",
       "    </tr>\n",
       "    <tr>\n",
       "      <th>2022-07-01 05:00:00</th>\n",
       "      <td>416</td>\n",
       "      <td>116</td>\n",
       "      <td>225</td>\n",
       "      <td>363</td>\n",
       "    </tr>\n",
       "    <tr>\n",
       "      <th>2022-07-01 06:00:00</th>\n",
       "      <td>1050</td>\n",
       "      <td>416</td>\n",
       "      <td>116</td>\n",
       "      <td>225</td>\n",
       "    </tr>\n",
       "    <tr>\n",
       "      <th>2022-07-01 07:00:00</th>\n",
       "      <td>2119</td>\n",
       "      <td>1050</td>\n",
       "      <td>416</td>\n",
       "      <td>116</td>\n",
       "    </tr>\n",
       "    <tr>\n",
       "      <th>2022-07-01 08:00:00</th>\n",
       "      <td>4318</td>\n",
       "      <td>2119</td>\n",
       "      <td>1050</td>\n",
       "      <td>416</td>\n",
       "    </tr>\n",
       "    <tr>\n",
       "      <th>2022-07-01 09:00:00</th>\n",
       "      <td>4097</td>\n",
       "      <td>4318</td>\n",
       "      <td>2119</td>\n",
       "      <td>1050</td>\n",
       "    </tr>\n",
       "    <tr>\n",
       "      <th>2022-07-01 10:00:00</th>\n",
       "      <td>2536</td>\n",
       "      <td>4097</td>\n",
       "      <td>4318</td>\n",
       "      <td>2119</td>\n",
       "    </tr>\n",
       "    <tr>\n",
       "      <th>2022-07-01 11:00:00</th>\n",
       "      <td>3749</td>\n",
       "      <td>2536</td>\n",
       "      <td>4097</td>\n",
       "      <td>4318</td>\n",
       "    </tr>\n",
       "    <tr>\n",
       "      <th>2022-07-01 12:00:00</th>\n",
       "      <td>2940</td>\n",
       "      <td>3749</td>\n",
       "      <td>2536</td>\n",
       "      <td>4097</td>\n",
       "    </tr>\n",
       "    <tr>\n",
       "      <th>2022-07-01 13:00:00</th>\n",
       "      <td>2380</td>\n",
       "      <td>2940</td>\n",
       "      <td>3749</td>\n",
       "      <td>2536</td>\n",
       "    </tr>\n",
       "    <tr>\n",
       "      <th>2022-07-01 14:00:00</th>\n",
       "      <td>2359</td>\n",
       "      <td>2380</td>\n",
       "      <td>2940</td>\n",
       "      <td>3749</td>\n",
       "    </tr>\n",
       "    <tr>\n",
       "      <th>2022-07-01 15:00:00</th>\n",
       "      <td>1691</td>\n",
       "      <td>2359</td>\n",
       "      <td>2380</td>\n",
       "      <td>2940</td>\n",
       "    </tr>\n",
       "    <tr>\n",
       "      <th>2022-07-01 16:00:00</th>\n",
       "      <td>1171</td>\n",
       "      <td>1691</td>\n",
       "      <td>2359</td>\n",
       "      <td>2380</td>\n",
       "    </tr>\n",
       "    <tr>\n",
       "      <th>2022-07-01 17:00:00</th>\n",
       "      <td>826</td>\n",
       "      <td>1171</td>\n",
       "      <td>1691</td>\n",
       "      <td>2359</td>\n",
       "    </tr>\n",
       "    <tr>\n",
       "      <th>2022-07-01 18:00:00</th>\n",
       "      <td>287</td>\n",
       "      <td>826</td>\n",
       "      <td>1171</td>\n",
       "      <td>1691</td>\n",
       "    </tr>\n",
       "    <tr>\n",
       "      <th>2022-07-01 19:00:00</th>\n",
       "      <td>58</td>\n",
       "      <td>287</td>\n",
       "      <td>826</td>\n",
       "      <td>1171</td>\n",
       "    </tr>\n",
       "  </tbody>\n",
       "</table>\n",
       "</div>"
      ],
      "text/plain": [
       "                     Target  Target-1  Target-2  Target-3\n",
       "Date                                                     \n",
       "2022-07-01 00:00:00     362         1         0         0\n",
       "2022-07-01 01:00:00     486       362         1         0\n",
       "2022-07-01 02:00:00     363       486       362         1\n",
       "2022-07-01 03:00:00     225       363       486       362\n",
       "2022-07-01 04:00:00     116       225       363       486\n",
       "2022-07-01 05:00:00     416       116       225       363\n",
       "2022-07-01 06:00:00    1050       416       116       225\n",
       "2022-07-01 07:00:00    2119      1050       416       116\n",
       "2022-07-01 08:00:00    4318      2119      1050       416\n",
       "2022-07-01 09:00:00    4097      4318      2119      1050\n",
       "2022-07-01 10:00:00    2536      4097      4318      2119\n",
       "2022-07-01 11:00:00    3749      2536      4097      4318\n",
       "2022-07-01 12:00:00    2940      3749      2536      4097\n",
       "2022-07-01 13:00:00    2380      2940      3749      2536\n",
       "2022-07-01 14:00:00    2359      2380      2940      3749\n",
       "2022-07-01 15:00:00    1691      2359      2380      2940\n",
       "2022-07-01 16:00:00    1171      1691      2359      2380\n",
       "2022-07-01 17:00:00     826      1171      1691      2359\n",
       "2022-07-01 18:00:00     287       826      1171      1691\n",
       "2022-07-01 19:00:00      58       287       826      1171"
      ]
     },
     "execution_count": 30,
     "metadata": {},
     "output_type": "execute_result"
    }
   ],
   "source": [
    "window_df.head(20)"
   ]
  },
  {
   "cell_type": "code",
   "execution_count": 31,
   "id": "557b0a6e",
   "metadata": {},
   "outputs": [],
   "source": [
    "window_df=window_df[2:]\n",
    "window_df.reset_index(level=0, inplace=True)"
   ]
  },
  {
   "cell_type": "code",
   "execution_count": 32,
   "id": "ab04cce5",
   "metadata": {},
   "outputs": [
    {
     "data": {
      "text/html": [
       "<div>\n",
       "<style scoped>\n",
       "    .dataframe tbody tr th:only-of-type {\n",
       "        vertical-align: middle;\n",
       "    }\n",
       "\n",
       "    .dataframe tbody tr th {\n",
       "        vertical-align: top;\n",
       "    }\n",
       "\n",
       "    .dataframe thead th {\n",
       "        text-align: right;\n",
       "    }\n",
       "</style>\n",
       "<table border=\"1\" class=\"dataframe\">\n",
       "  <thead>\n",
       "    <tr style=\"text-align: right;\">\n",
       "      <th></th>\n",
       "      <th>Date</th>\n",
       "      <th>Target</th>\n",
       "      <th>Target-1</th>\n",
       "      <th>Target-2</th>\n",
       "      <th>Target-3</th>\n",
       "    </tr>\n",
       "  </thead>\n",
       "  <tbody>\n",
       "    <tr>\n",
       "      <th>0</th>\n",
       "      <td>2022-07-01 02:00:00</td>\n",
       "      <td>363</td>\n",
       "      <td>486</td>\n",
       "      <td>362</td>\n",
       "      <td>1</td>\n",
       "    </tr>\n",
       "    <tr>\n",
       "      <th>1</th>\n",
       "      <td>2022-07-01 03:00:00</td>\n",
       "      <td>225</td>\n",
       "      <td>363</td>\n",
       "      <td>486</td>\n",
       "      <td>362</td>\n",
       "    </tr>\n",
       "    <tr>\n",
       "      <th>2</th>\n",
       "      <td>2022-07-01 04:00:00</td>\n",
       "      <td>116</td>\n",
       "      <td>225</td>\n",
       "      <td>363</td>\n",
       "      <td>486</td>\n",
       "    </tr>\n",
       "    <tr>\n",
       "      <th>3</th>\n",
       "      <td>2022-07-01 05:00:00</td>\n",
       "      <td>416</td>\n",
       "      <td>116</td>\n",
       "      <td>225</td>\n",
       "      <td>363</td>\n",
       "    </tr>\n",
       "    <tr>\n",
       "      <th>4</th>\n",
       "      <td>2022-07-01 06:00:00</td>\n",
       "      <td>1050</td>\n",
       "      <td>416</td>\n",
       "      <td>116</td>\n",
       "      <td>225</td>\n",
       "    </tr>\n",
       "    <tr>\n",
       "      <th>...</th>\n",
       "      <td>...</td>\n",
       "      <td>...</td>\n",
       "      <td>...</td>\n",
       "      <td>...</td>\n",
       "      <td>...</td>\n",
       "    </tr>\n",
       "    <tr>\n",
       "      <th>630</th>\n",
       "      <td>2022-07-27 22:00:00</td>\n",
       "      <td>1</td>\n",
       "      <td>4</td>\n",
       "      <td>44</td>\n",
       "      <td>81</td>\n",
       "    </tr>\n",
       "    <tr>\n",
       "      <th>631</th>\n",
       "      <td>2022-07-30 00:00:00</td>\n",
       "      <td>1</td>\n",
       "      <td>1</td>\n",
       "      <td>4</td>\n",
       "      <td>44</td>\n",
       "    </tr>\n",
       "    <tr>\n",
       "      <th>632</th>\n",
       "      <td>2022-07-30 03:00:00</td>\n",
       "      <td>1</td>\n",
       "      <td>1</td>\n",
       "      <td>1</td>\n",
       "      <td>4</td>\n",
       "    </tr>\n",
       "    <tr>\n",
       "      <th>633</th>\n",
       "      <td>2022-07-30 18:00:00</td>\n",
       "      <td>1</td>\n",
       "      <td>1</td>\n",
       "      <td>1</td>\n",
       "      <td>1</td>\n",
       "    </tr>\n",
       "    <tr>\n",
       "      <th>634</th>\n",
       "      <td>2022-07-30 21:00:00</td>\n",
       "      <td>1</td>\n",
       "      <td>1</td>\n",
       "      <td>1</td>\n",
       "      <td>1</td>\n",
       "    </tr>\n",
       "  </tbody>\n",
       "</table>\n",
       "<p>635 rows × 5 columns</p>\n",
       "</div>"
      ],
      "text/plain": [
       "                   Date  Target  Target-1  Target-2  Target-3\n",
       "0   2022-07-01 02:00:00     363       486       362         1\n",
       "1   2022-07-01 03:00:00     225       363       486       362\n",
       "2   2022-07-01 04:00:00     116       225       363       486\n",
       "3   2022-07-01 05:00:00     416       116       225       363\n",
       "4   2022-07-01 06:00:00    1050       416       116       225\n",
       "..                  ...     ...       ...       ...       ...\n",
       "630 2022-07-27 22:00:00       1         4        44        81\n",
       "631 2022-07-30 00:00:00       1         1         4        44\n",
       "632 2022-07-30 03:00:00       1         1         1         4\n",
       "633 2022-07-30 18:00:00       1         1         1         1\n",
       "634 2022-07-30 21:00:00       1         1         1         1\n",
       "\n",
       "[635 rows x 5 columns]"
      ]
     },
     "execution_count": 32,
     "metadata": {},
     "output_type": "execute_result"
    }
   ],
   "source": [
    "window_df"
   ]
  },
  {
   "cell_type": "code",
   "execution_count": 33,
   "id": "d48349b2",
   "metadata": {},
   "outputs": [
    {
     "data": {
      "text/plain": [
       "((635,), (635, 3, 1), (635,))"
      ]
     },
     "execution_count": 33,
     "metadata": {},
     "output_type": "execute_result"
    }
   ],
   "source": [
    "def windowed_df_to_date_X_y(windowed_dataframe):\n",
    "    df_as_np = windowed_dataframe.to_numpy()\n",
    "    dates = df_as_np[:,0]\n",
    "    middle_matrix = df_as_np[:, 1:-1]\n",
    "    X = middle_matrix.reshape((len(dates), middle_matrix.shape[1], 1))\n",
    "    Y = df_as_np[:, -1]\n",
    "    return dates, X.astype(np.float32), Y.astype(np.float32)\n",
    "dates, X, y = windowed_df_to_date_X_y(window_df)\n",
    "\n",
    "dates.shape, X.shape, y.shape"
   ]
  },
  {
   "cell_type": "code",
   "execution_count": 34,
   "id": "dc381d66",
   "metadata": {},
   "outputs": [
    {
     "name": "stdout",
     "output_type": "stream",
     "text": [
      "<class 'numpy.ndarray'>\n",
      "<class 'numpy.ndarray'>\n"
     ]
    }
   ],
   "source": [
    "print(type( X))\n",
    "print(type(y))"
   ]
  },
  {
   "cell_type": "code",
   "execution_count": 35,
   "id": "ce21be93",
   "metadata": {},
   "outputs": [
    {
     "data": {
      "text/plain": [
       "<matplotlib.legend.Legend at 0x14d62dd4310>"
      ]
     },
     "execution_count": 35,
     "metadata": {},
     "output_type": "execute_result"
    },
    {
     "data": {
      "image/png": "[encoded data removed]",
      "text/plain": [
       "<Figure size 432x288 with 1 Axes>"
      ]
     },
     "metadata": {
      "needs_background": "light"
     },
     "output_type": "display_data"
    }
   ],
   "source": [
    "q_80 = int(len(dates) * .8)\n",
    "q_90 = int(len(dates) * .9)\n",
    "\n",
    "dates_train, X_train, y_train = dates[:q_80], X[:q_80], y[:q_80]\n",
    "\n",
    "dates_val, X_val, y_val = dates[q_80:q_90], X[q_80:q_90], y[q_80:q_90]\n",
    "dates_test, X_test, y_test = dates[q_90:], X[q_90:], y[q_90:]\n",
    "\n",
    "plt.plot(dates_train, y_train)\n",
    "plt.plot(dates_val, y_val)\n",
    "plt.plot(dates_test, y_test)\n",
    "\n",
    "plt.legend(['Train', 'Validation', 'Test'])"
   ]
  },
  {
   "cell_type": "code",
   "execution_count": 36,
   "id": "10242af7",
   "metadata": {},
   "outputs": [],
   "source": [
    "from tensorflow.keras.models import Sequential\n",
    "from tensorflow.keras.optimizers import Adam\n",
    "from tensorflow.keras import layers"
   ]
  },
  {
   "cell_type": "code",
   "execution_count": 37,
   "id": "514a87be",
   "metadata": {
    "scrolled": false
   },
   "outputs": [
    {
     "name": "stdout",
     "output_type": "stream",
     "text": [
      "Epoch 1/100\n",
      "16/16 [==============================] - 11s 79ms/step - loss: 2587571.2500 - mean_absolute_error: 1026.2173 - val_loss: 1813975.7500 - val_mean_absolute_error: 861.2132\n",
      "Epoch 2/100\n",
      "16/16 [==============================] - 0s 16ms/step - loss: 2585568.7500 - mean_absolute_error: 1025.2554 - val_loss: 1812383.5000 - val_mean_absolute_error: 860.2153\n",
      "Epoch 3/100\n",
      "16/16 [==============================] - 0s 17ms/step - loss: 2582602.2500 - mean_absolute_error: 1023.7482 - val_loss: 1808379.3750 - val_mean_absolute_error: 857.7428\n",
      "Epoch 4/100\n",
      "16/16 [==============================] - 0s 11ms/step - loss: 2575813.2500 - mean_absolute_error: 1020.2357 - val_loss: 1800274.2500 - val_mean_absolute_error: 852.3647\n",
      "Epoch 5/100\n",
      "16/16 [==============================] - 0s 14ms/step - loss: 2560861.0000 - mean_absolute_error: 1012.4385 - val_loss: 1780151.6250 - val_mean_absolute_error: 840.0984\n",
      "Epoch 6/100\n",
      "16/16 [==============================] - 0s 13ms/step - loss: 2526264.5000 - mean_absolute_error: 995.7601 - val_loss: 1738273.0000 - val_mean_absolute_error: 820.1064\n",
      "Epoch 7/100\n",
      "16/16 [==============================] - 0s 10ms/step - loss: 2460273.2500 - mean_absolute_error: 969.7038 - val_loss: 1666759.8750 - val_mean_absolute_error: 789.7478\n",
      "Epoch 8/100\n",
      "16/16 [==============================] - 0s 10ms/step - loss: 2353546.0000 - mean_absolute_error: 930.4886 - val_loss: 1566910.2500 - val_mean_absolute_error: 752.3867\n",
      "Epoch 9/100\n",
      "16/16 [==============================] - 0s 8ms/step - loss: 2225008.7500 - mean_absolute_error: 887.3364 - val_loss: 1454111.5000 - val_mean_absolute_error: 715.4462\n",
      "Epoch 10/100\n",
      "16/16 [==============================] - 0s 8ms/step - loss: 2073774.8750 - mean_absolute_error: 845.1594 - val_loss: 1328915.3750 - val_mean_absolute_error: 664.0540\n",
      "Epoch 11/100\n",
      "16/16 [==============================] - 0s 10ms/step - loss: 1906737.7500 - mean_absolute_error: 800.3152 - val_loss: 1189118.7500 - val_mean_absolute_error: 617.1084\n",
      "Epoch 12/100\n",
      "16/16 [==============================] - 0s 10ms/step - loss: 1721147.5000 - mean_absolute_error: 755.7479 - val_loss: 1043802.4375 - val_mean_absolute_error: 569.8674\n",
      "Epoch 13/100\n",
      "16/16 [==============================] - 0s 9ms/step - loss: 1534970.2500 - mean_absolute_error: 708.3693 - val_loss: 896990.1875 - val_mean_absolute_error: 522.0270\n",
      "Epoch 14/100\n",
      "16/16 [==============================] - 0s 9ms/step - loss: 1331909.5000 - mean_absolute_error: 656.9588 - val_loss: 767116.1250 - val_mean_absolute_error: 473.5960\n",
      "Epoch 15/100\n",
      "16/16 [==============================] - 0s 10ms/step - loss: 1153993.6250 - mean_absolute_error: 612.3792 - val_loss: 654709.3750 - val_mean_absolute_error: 450.5094\n",
      "Epoch 16/100\n",
      "16/16 [==============================] - 0s 9ms/step - loss: 982724.6875 - mean_absolute_error: 570.3715 - val_loss: 533797.3125 - val_mean_absolute_error: 394.8694\n",
      "Epoch 17/100\n",
      "16/16 [==============================] - 0s 11ms/step - loss: 813662.8750 - mean_absolute_error: 516.2811 - val_loss: 455804.2812 - val_mean_absolute_error: 367.2422\n",
      "Epoch 18/100\n",
      "16/16 [==============================] - 0s 10ms/step - loss: 689529.8750 - mean_absolute_error: 475.8213 - val_loss: 375060.4688 - val_mean_absolute_error: 338.0534\n",
      "Epoch 19/100\n",
      "16/16 [==============================] - 0s 10ms/step - loss: 573970.4375 - mean_absolute_error: 435.9642 - val_loss: 317562.0312 - val_mean_absolute_error: 307.5103\n",
      "Epoch 20/100\n",
      "16/16 [==============================] - 0s 11ms/step - loss: 483278.4062 - mean_absolute_error: 395.1340 - val_loss: 288282.7500 - val_mean_absolute_error: 299.8373\n",
      "Epoch 21/100\n",
      "16/16 [==============================] - 0s 12ms/step - loss: 445147.8750 - mean_absolute_error: 385.5576 - val_loss: 273824.4062 - val_mean_absolute_error: 286.9867\n",
      "Epoch 22/100\n",
      "16/16 [==============================] - 0s 13ms/step - loss: 409648.7188 - mean_absolute_error: 370.9264 - val_loss: 271144.9062 - val_mean_absolute_error: 310.5591\n",
      "Epoch 23/100\n",
      "16/16 [==============================] - 0s 11ms/step - loss: 399703.1562 - mean_absolute_error: 373.3587 - val_loss: 239382.5781 - val_mean_absolute_error: 279.6980\n",
      "Epoch 24/100\n",
      "16/16 [==============================] - 0s 12ms/step - loss: 352539.6562 - mean_absolute_error: 344.6717 - val_loss: 221032.8594 - val_mean_absolute_error: 278.0756\n",
      "Epoch 25/100\n",
      "16/16 [==============================] - 0s 11ms/step - loss: 327039.6875 - mean_absolute_error: 332.4922 - val_loss: 270062.2188 - val_mean_absolute_error: 335.6876\n",
      "Epoch 26/100\n",
      "16/16 [==============================] - 0s 12ms/step - loss: 348025.9688 - mean_absolute_error: 353.7401 - val_loss: 226877.3125 - val_mean_absolute_error: 280.4713\n",
      "Epoch 27/100\n",
      "16/16 [==============================] - 0s 16ms/step - loss: 321825.3750 - mean_absolute_error: 334.1887 - val_loss: 223271.2188 - val_mean_absolute_error: 285.2911\n",
      "Epoch 28/100\n",
      "16/16 [==============================] - 0s 11ms/step - loss: 299602.5938 - mean_absolute_error: 319.1082 - val_loss: 201695.7344 - val_mean_absolute_error: 270.1663\n",
      "Epoch 29/100\n",
      "16/16 [==============================] - 0s 10ms/step - loss: 290169.3125 - mean_absolute_error: 314.1263 - val_loss: 198061.7344 - val_mean_absolute_error: 268.2494\n",
      "Epoch 30/100\n",
      "16/16 [==============================] - 0s 10ms/step - loss: 322569.0938 - mean_absolute_error: 330.2396 - val_loss: 220211.2188 - val_mean_absolute_error: 269.7407\n",
      "Epoch 31/100\n",
      "16/16 [==============================] - 0s 11ms/step - loss: 318252.3125 - mean_absolute_error: 325.2675 - val_loss: 214324.7031 - val_mean_absolute_error: 272.8493\n",
      "Epoch 32/100\n",
      "16/16 [==============================] - 0s 10ms/step - loss: 285315.6562 - mean_absolute_error: 311.6531 - val_loss: 189212.2969 - val_mean_absolute_error: 261.9472\n",
      "Epoch 33/100\n",
      "16/16 [==============================] - 0s 14ms/step - loss: 270154.3125 - mean_absolute_error: 303.0453 - val_loss: 211906.3281 - val_mean_absolute_error: 268.5016\n",
      "Epoch 34/100\n",
      "16/16 [==============================] - 0s 11ms/step - loss: 263584.5625 - mean_absolute_error: 300.1364 - val_loss: 186579.5938 - val_mean_absolute_error: 261.3551\n",
      "Epoch 35/100\n",
      "16/16 [==============================] - 0s 11ms/step - loss: 262912.5625 - mean_absolute_error: 294.2975 - val_loss: 188781.5938 - val_mean_absolute_error: 263.6777\n",
      "Epoch 36/100\n",
      "16/16 [==============================] - 0s 12ms/step - loss: 261396.3125 - mean_absolute_error: 295.4339 - val_loss: 204708.4531 - val_mean_absolute_error: 277.0935\n",
      "Epoch 37/100\n",
      "16/16 [==============================] - 0s 11ms/step - loss: 266553.0312 - mean_absolute_error: 302.6646 - val_loss: 198017.7031 - val_mean_absolute_error: 272.1503\n",
      "Epoch 38/100\n",
      "16/16 [==============================] - 0s 10ms/step - loss: 265667.7812 - mean_absolute_error: 309.4545 - val_loss: 203637.9844 - val_mean_absolute_error: 287.3209\n",
      "Epoch 39/100\n",
      "16/16 [==============================] - 0s 10ms/step - loss: 267253.3125 - mean_absolute_error: 307.9966 - val_loss: 199243.1250 - val_mean_absolute_error: 276.5572\n",
      "Epoch 40/100\n",
      "16/16 [==============================] - 0s 10ms/step - loss: 290648.7188 - mean_absolute_error: 313.7596 - val_loss: 193157.0781 - val_mean_absolute_error: 270.7825\n",
      "Epoch 41/100\n",
      "16/16 [==============================] - 0s 9ms/step - loss: 270353.6562 - mean_absolute_error: 300.0433 - val_loss: 191233.3281 - val_mean_absolute_error: 267.2558\n",
      "Epoch 42/100\n",
      "16/16 [==============================] - 0s 10ms/step - loss: 260282.7656 - mean_absolute_error: 298.5966 - val_loss: 183543.4531 - val_mean_absolute_error: 259.1992\n",
      "Epoch 43/100\n",
      "16/16 [==============================] - 0s 12ms/step - loss: 276532.9375 - mean_absolute_error: 307.1563 - val_loss: 186760.4062 - val_mean_absolute_error: 266.3755\n",
      "Epoch 44/100\n",
      "16/16 [==============================] - 0s 11ms/step - loss: 263671.2188 - mean_absolute_error: 295.8376 - val_loss: 190568.4375 - val_mean_absolute_error: 269.5795\n",
      "Epoch 45/100\n",
      "16/16 [==============================] - 0s 10ms/step - loss: 260866.5000 - mean_absolute_error: 289.8192 - val_loss: 178772.7031 - val_mean_absolute_error: 257.2930\n",
      "Epoch 46/100\n",
      "16/16 [==============================] - 0s 12ms/step - loss: 289847.2188 - mean_absolute_error: 308.7676 - val_loss: 216782.0000 - val_mean_absolute_error: 300.5085\n"
     ]
    },
    {
     "name": "stdout",
     "output_type": "stream",
     "text": [
      "Epoch 47/100\n",
      "16/16 [==============================] - 0s 10ms/step - loss: 287428.7812 - mean_absolute_error: 314.6975 - val_loss: 203421.8438 - val_mean_absolute_error: 278.4181\n",
      "Epoch 48/100\n",
      "16/16 [==============================] - 0s 9ms/step - loss: 260666.4375 - mean_absolute_error: 295.9864 - val_loss: 206719.7969 - val_mean_absolute_error: 269.2954\n",
      "Epoch 49/100\n",
      "16/16 [==============================] - 0s 10ms/step - loss: 291559.3750 - mean_absolute_error: 310.2941 - val_loss: 228385.2344 - val_mean_absolute_error: 280.7499\n",
      "Epoch 50/100\n",
      "16/16 [==============================] - 0s 9ms/step - loss: 327583.1875 - mean_absolute_error: 324.3136 - val_loss: 196752.7031 - val_mean_absolute_error: 257.6659\n",
      "Epoch 51/100\n",
      "16/16 [==============================] - 0s 9ms/step - loss: 286322.7812 - mean_absolute_error: 308.5982 - val_loss: 185172.5625 - val_mean_absolute_error: 257.9886\n",
      "Epoch 52/100\n",
      "16/16 [==============================] - 0s 12ms/step - loss: 271276.3438 - mean_absolute_error: 304.0960 - val_loss: 197481.9062 - val_mean_absolute_error: 262.0534\n",
      "Epoch 53/100\n",
      "16/16 [==============================] - 0s 10ms/step - loss: 303994.5000 - mean_absolute_error: 322.3452 - val_loss: 190121.0938 - val_mean_absolute_error: 263.0644\n",
      "Epoch 54/100\n",
      "16/16 [==============================] - 0s 9ms/step - loss: 288193.9375 - mean_absolute_error: 311.0294 - val_loss: 199455.5938 - val_mean_absolute_error: 269.2466\n",
      "Epoch 55/100\n",
      "16/16 [==============================] - 0s 12ms/step - loss: 265518.5625 - mean_absolute_error: 295.9442 - val_loss: 194942.2500 - val_mean_absolute_error: 266.1829\n",
      "Epoch 56/100\n",
      "16/16 [==============================] - 0s 15ms/step - loss: 283181.2500 - mean_absolute_error: 307.7709 - val_loss: 206299.5781 - val_mean_absolute_error: 256.0591\n",
      "Epoch 57/100\n",
      "16/16 [==============================] - 0s 13ms/step - loss: 286938.4688 - mean_absolute_error: 306.5287 - val_loss: 194057.3594 - val_mean_absolute_error: 264.9010\n",
      "Epoch 58/100\n",
      "16/16 [==============================] - 0s 15ms/step - loss: 253398.7031 - mean_absolute_error: 290.0338 - val_loss: 177054.8438 - val_mean_absolute_error: 255.4376\n",
      "Epoch 59/100\n",
      "16/16 [==============================] - 0s 13ms/step - loss: 270842.7500 - mean_absolute_error: 304.1101 - val_loss: 203129.8906 - val_mean_absolute_error: 268.4854\n",
      "Epoch 60/100\n",
      "16/16 [==============================] - 0s 10ms/step - loss: 249365.5156 - mean_absolute_error: 295.8624 - val_loss: 211812.2969 - val_mean_absolute_error: 273.4664\n",
      "Epoch 61/100\n",
      "16/16 [==============================] - 0s 10ms/step - loss: 276863.6562 - mean_absolute_error: 301.6440 - val_loss: 186657.8906 - val_mean_absolute_error: 259.6576\n",
      "Epoch 62/100\n",
      "16/16 [==============================] - 0s 9ms/step - loss: 251644.2188 - mean_absolute_error: 288.1911 - val_loss: 198921.6406 - val_mean_absolute_error: 265.9367\n",
      "Epoch 63/100\n",
      "16/16 [==============================] - 0s 12ms/step - loss: 251421.3750 - mean_absolute_error: 290.3757 - val_loss: 187632.1719 - val_mean_absolute_error: 266.5071\n",
      "Epoch 64/100\n",
      "16/16 [==============================] - 0s 9ms/step - loss: 253863.8750 - mean_absolute_error: 291.8401 - val_loss: 206462.2656 - val_mean_absolute_error: 271.0241\n",
      "Epoch 65/100\n",
      "16/16 [==============================] - 0s 10ms/step - loss: 245159.6406 - mean_absolute_error: 286.0591 - val_loss: 201008.1719 - val_mean_absolute_error: 264.4712\n",
      "Epoch 66/100\n",
      "16/16 [==============================] - 0s 11ms/step - loss: 245366.2344 - mean_absolute_error: 289.6876 - val_loss: 180044.2344 - val_mean_absolute_error: 260.1632\n",
      "Epoch 67/100\n",
      "16/16 [==============================] - 0s 12ms/step - loss: 245552.4062 - mean_absolute_error: 284.9044 - val_loss: 173200.1875 - val_mean_absolute_error: 253.1310\n",
      "Epoch 68/100\n",
      "16/16 [==============================] - 0s 11ms/step - loss: 267433.9688 - mean_absolute_error: 298.8866 - val_loss: 203776.7188 - val_mean_absolute_error: 262.7495\n",
      "Epoch 69/100\n",
      "16/16 [==============================] - 0s 9ms/step - loss: 275438.1875 - mean_absolute_error: 296.9527 - val_loss: 181478.7656 - val_mean_absolute_error: 256.8163\n",
      "Epoch 70/100\n",
      "16/16 [==============================] - 0s 11ms/step - loss: 246527.1719 - mean_absolute_error: 287.9674 - val_loss: 176310.3594 - val_mean_absolute_error: 254.5344\n",
      "Epoch 71/100\n",
      "16/16 [==============================] - 0s 10ms/step - loss: 250634.8906 - mean_absolute_error: 288.0316 - val_loss: 198311.6406 - val_mean_absolute_error: 268.5346\n",
      "Epoch 72/100\n",
      "16/16 [==============================] - 0s 10ms/step - loss: 255904.1562 - mean_absolute_error: 289.1953 - val_loss: 182140.1250 - val_mean_absolute_error: 259.7446\n",
      "Epoch 73/100\n",
      "16/16 [==============================] - 0s 10ms/step - loss: 282268.0938 - mean_absolute_error: 304.9830 - val_loss: 195699.2812 - val_mean_absolute_error: 254.6533\n",
      "Epoch 74/100\n",
      "16/16 [==============================] - 0s 10ms/step - loss: 274627.7500 - mean_absolute_error: 297.4314 - val_loss: 216814.0938 - val_mean_absolute_error: 267.5356\n",
      "Epoch 75/100\n",
      "16/16 [==============================] - 0s 10ms/step - loss: 300097.4375 - mean_absolute_error: 315.1239 - val_loss: 187593.4062 - val_mean_absolute_error: 260.0682\n",
      "Epoch 76/100\n",
      "16/16 [==============================] - 0s 10ms/step - loss: 280250.2500 - mean_absolute_error: 303.4362 - val_loss: 207972.6719 - val_mean_absolute_error: 272.4725\n",
      "Epoch 77/100\n",
      "16/16 [==============================] - 0s 12ms/step - loss: 268674.7500 - mean_absolute_error: 300.7324 - val_loss: 188884.5312 - val_mean_absolute_error: 264.4888\n",
      "Epoch 78/100\n",
      "16/16 [==============================] - 0s 11ms/step - loss: 250674.7500 - mean_absolute_error: 296.5335 - val_loss: 187921.9531 - val_mean_absolute_error: 261.0217\n",
      "Epoch 79/100\n",
      "16/16 [==============================] - 0s 10ms/step - loss: 259596.9688 - mean_absolute_error: 295.1510 - val_loss: 175880.7656 - val_mean_absolute_error: 260.4023\n",
      "Epoch 80/100\n",
      "16/16 [==============================] - 0s 10ms/step - loss: 240474.8594 - mean_absolute_error: 287.9388 - val_loss: 175575.5469 - val_mean_absolute_error: 260.4883\n",
      "Epoch 81/100\n",
      "16/16 [==============================] - 0s 9ms/step - loss: 257341.0781 - mean_absolute_error: 290.8841 - val_loss: 183045.6562 - val_mean_absolute_error: 260.9763\n",
      "Epoch 82/100\n",
      "16/16 [==============================] - 0s 10ms/step - loss: 275371.0938 - mean_absolute_error: 312.2132 - val_loss: 247743.7812 - val_mean_absolute_error: 317.7188\n",
      "Epoch 83/100\n",
      "16/16 [==============================] - 0s 10ms/step - loss: 272611.0938 - mean_absolute_error: 308.4001 - val_loss: 187600.5938 - val_mean_absolute_error: 262.0995\n",
      "Epoch 84/100\n",
      "16/16 [==============================] - 0s 10ms/step - loss: 276763.8438 - mean_absolute_error: 304.0988 - val_loss: 182358.5469 - val_mean_absolute_error: 272.1338\n",
      "Epoch 85/100\n",
      "16/16 [==============================] - 0s 10ms/step - loss: 259463.4531 - mean_absolute_error: 300.9409 - val_loss: 207557.6250 - val_mean_absolute_error: 266.7234\n",
      "Epoch 86/100\n",
      "16/16 [==============================] - 0s 10ms/step - loss: 313908.1562 - mean_absolute_error: 328.8712 - val_loss: 245841.9531 - val_mean_absolute_error: 298.6609\n",
      "Epoch 87/100\n",
      "16/16 [==============================] - 0s 11ms/step - loss: 354962.6875 - mean_absolute_error: 341.2636 - val_loss: 237270.1406 - val_mean_absolute_error: 277.8028\n",
      "Epoch 88/100\n",
      "16/16 [==============================] - 0s 10ms/step - loss: 298136.2188 - mean_absolute_error: 309.8551 - val_loss: 191869.8594 - val_mean_absolute_error: 256.6948\n",
      "Epoch 89/100\n",
      "16/16 [==============================] - 0s 10ms/step - loss: 278875.5312 - mean_absolute_error: 310.3029 - val_loss: 186087.8125 - val_mean_absolute_error: 262.8027\n",
      "Epoch 90/100\n",
      "16/16 [==============================] - 0s 12ms/step - loss: 265678.3750 - mean_absolute_error: 303.3546 - val_loss: 200962.8438 - val_mean_absolute_error: 272.2654\n",
      "Epoch 91/100\n",
      "16/16 [==============================] - 0s 12ms/step - loss: 280053.0000 - mean_absolute_error: 310.4310 - val_loss: 181005.2500 - val_mean_absolute_error: 255.8500\n",
      "Epoch 92/100\n",
      "16/16 [==============================] - 0s 10ms/step - loss: 253737.7031 - mean_absolute_error: 292.6223 - val_loss: 170609.0156 - val_mean_absolute_error: 258.3471\n"
     ]
    },
    {
     "name": "stdout",
     "output_type": "stream",
     "text": [
      "Epoch 93/100\n",
      "16/16 [==============================] - 0s 10ms/step - loss: 250516.6250 - mean_absolute_error: 298.5286 - val_loss: 180039.1094 - val_mean_absolute_error: 260.8948\n",
      "Epoch 94/100\n",
      "16/16 [==============================] - 0s 10ms/step - loss: 247061.9844 - mean_absolute_error: 289.2913 - val_loss: 173671.1406 - val_mean_absolute_error: 258.9237\n",
      "Epoch 95/100\n",
      "16/16 [==============================] - 0s 9ms/step - loss: 248671.7656 - mean_absolute_error: 293.3964 - val_loss: 192240.4375 - val_mean_absolute_error: 252.4606\n",
      "Epoch 96/100\n",
      "16/16 [==============================] - 0s 8ms/step - loss: 294036.7812 - mean_absolute_error: 318.1977 - val_loss: 227713.4531 - val_mean_absolute_error: 273.7397\n",
      "Epoch 97/100\n",
      "16/16 [==============================] - 0s 8ms/step - loss: 281971.7500 - mean_absolute_error: 304.3737 - val_loss: 187582.1406 - val_mean_absolute_error: 256.4831\n",
      "Epoch 98/100\n",
      "16/16 [==============================] - 0s 8ms/step - loss: 260495.8281 - mean_absolute_error: 296.9122 - val_loss: 177099.6406 - val_mean_absolute_error: 255.7231\n",
      "Epoch 99/100\n",
      "16/16 [==============================] - 0s 8ms/step - loss: 246436.2969 - mean_absolute_error: 288.1126 - val_loss: 181491.0781 - val_mean_absolute_error: 257.8083\n",
      "Epoch 100/100\n",
      "16/16 [==============================] - 0s 8ms/step - loss: 276214.7500 - mean_absolute_error: 305.0707 - val_loss: 172067.0312 - val_mean_absolute_error: 251.5406\n"
     ]
    },
    {
     "data": {
      "text/plain": [
       "<keras.callbacks.History at 0x14d6300f970>"
      ]
     },
     "execution_count": 37,
     "metadata": {},
     "output_type": "execute_result"
    }
   ],
   "source": [
    "model = Sequential([layers.Input((3, 1)),\n",
    "                    layers.LSTM(64),\n",
    "                    layers.Dense(32, activation='relu'),\n",
    "                    layers.Dense(32, activation='relu'),\n",
    "                    layers.Dense(1)])\n",
    "\n",
    "model.compile(loss='mse', \n",
    "              optimizer=Adam(learning_rate=0.001),\n",
    "              metrics=['mean_absolute_error'])\n",
    "\n",
    "model.fit(X_train, y_train, validation_data=(X_val, y_val), epochs=100)"
   ]
  },
  {
   "cell_type": "code",
   "execution_count": 38,
   "id": "f80a9236",
   "metadata": {},
   "outputs": [
    {
     "name": "stdout",
     "output_type": "stream",
     "text": [
      "16/16 [==============================] - 1s 4ms/step\n"
     ]
    },
    {
     "data": {
      "text/plain": [
       "<matplotlib.legend.Legend at 0x14d66d40df0>"
      ]
     },
     "execution_count": 38,
     "metadata": {},
     "output_type": "execute_result"
    },
    {
     "data": {
      "image/png": "[encoded data removed]",
      "text/plain": [
       "<Figure size 432x288 with 1 Axes>"
      ]
     },
     "metadata": {
      "needs_background": "light"
     },
     "output_type": "display_data"
    }
   ],
   "source": [
    "train_predictions = model.predict(X_train).flatten()\n",
    "\n",
    "plt.plot(dates_train, train_predictions)\n",
    "plt.plot(dates_train, y_train)\n",
    "plt.legend(['Training Predictions', 'Training Observations'])"
   ]
  },
  {
   "cell_type": "code",
   "execution_count": 39,
   "id": "ff61575f",
   "metadata": {},
   "outputs": [
    {
     "name": "stdout",
     "output_type": "stream",
     "text": [
      "2/2 [==============================] - 0s 6ms/step\n"
     ]
    },
    {
     "data": {
      "text/plain": [
       "<matplotlib.legend.Legend at 0x14d67d7bd90>"
      ]
     },
     "execution_count": 39,
     "metadata": {},
     "output_type": "execute_result"
    },
    {
     "data": {
      "image/png": "[encoded data removed]",
      "text/plain": [
       "<Figure size 432x288 with 1 Axes>"
      ]
     },
     "metadata": {
      "needs_background": "light"
     },
     "output_type": "display_data"
    }
   ],
   "source": [
    "val_predictions = model.predict(X_val).flatten()\n",
    "\n",
    "plt.plot(dates_val, val_predictions)\n",
    "plt.plot(dates_val, y_val)\n",
    "plt.legend(['Validation Predictions', 'Validation Observations'])"
   ]
  },
  {
   "cell_type": "code",
   "execution_count": 40,
   "id": "5d0290f4",
   "metadata": {},
   "outputs": [
    {
     "name": "stdout",
     "output_type": "stream",
     "text": [
      "2/2 [==============================] - 0s 4ms/step\n"
     ]
    },
    {
     "data": {
      "text/plain": [
       "<matplotlib.legend.Legend at 0x14d67db5df0>"
      ]
     },
     "execution_count": 40,
     "metadata": {},
     "output_type": "execute_result"
    },
    {
     "data": {
      "image/png": "[encoded data removed]",
      "text/plain": [
       "<Figure size 432x288 with 1 Axes>"
      ]
     },
     "metadata": {
      "needs_background": "light"
     },
     "output_type": "display_data"
    }
   ],
   "source": [
    "test_predictions = model.predict(X_test).flatten()\n",
    "\n",
    "plt.plot(dates_test, test_predictions)\n",
    "plt.plot(dates_test, y_test)\n",
    "plt.legend(['Testing Predictions', 'Testing Observations'])"
   ]
  },
  {
   "cell_type": "code",
   "execution_count": 41,
   "id": "c545f28e",
   "metadata": {},
   "outputs": [
    {
     "data": {
      "text/plain": [
       "<matplotlib.legend.Legend at 0x14d67e0cfa0>"
      ]
     },
     "execution_count": 41,
     "metadata": {},
     "output_type": "execute_result"
    },
    {
     "data": {
      "image/png": "[encoded data removed]",
      "text/plain": [
       "<Figure size 432x288 with 1 Axes>"
      ]
     },
     "metadata": {
      "needs_background": "light"
     },
     "output_type": "display_data"
    }
   ],
   "source": [
    "plt.plot(dates_train, train_predictions)\n",
    "plt.plot(dates_train, y_train)\n",
    "plt.plot(dates_val, val_predictions)\n",
    "plt.plot(dates_val, y_val)\n",
    "plt.plot(dates_test, test_predictions)\n",
    "plt.plot(dates_test, y_test)\n",
    "plt.legend(['Training Predictions', \n",
    "            'Training Observations',\n",
    "            'Validation Predictions', \n",
    "            'Validation Observations',\n",
    "            'Testing Predictions', \n",
    "            'Testing Observations'])"
   ]
  },
  {
   "cell_type": "code",
   "execution_count": null,
   "id": "10a195b9",
   "metadata": {},
   "outputs": [
    {
     "name": "stdout",
     "output_type": "stream",
     "text": [
      "1/1 [==============================] - 0s 77ms/step\n",
      "1/1 [==============================] - 0s 56ms/step\n",
      "1/1 [==============================] - 0s 33ms/step\n",
      "1/1 [==============================] - 0s 38ms/step\n",
      "1/1 [==============================] - 0s 36ms/step\n",
      "1/1 [==============================] - 0s 44ms/step\n",
      "1/1 [==============================] - 0s 39ms/step\n",
      "1/1 [==============================] - 0s 38ms/step\n",
      "1/1 [==============================] - 0s 40ms/step\n",
      "1/1 [==============================] - 0s 35ms/step\n",
      "1/1 [==============================] - 0s 33ms/step\n",
      "1/1 [==============================] - 0s 33ms/step\n",
      "1/1 [==============================] - 0s 37ms/step\n",
      "1/1 [==============================] - 0s 43ms/step\n",
      "1/1 [==============================] - 0s 55ms/step\n",
      "1/1 [==============================] - 0s 33ms/step\n",
      "1/1 [==============================] - 0s 29ms/step\n",
      "1/1 [==============================] - 0s 58ms/step\n",
      "1/1 [==============================] - 0s 67ms/step\n",
      "1/1 [==============================] - 0s 34ms/step\n",
      "1/1 [==============================] - 0s 38ms/step\n",
      "1/1 [==============================] - 0s 32ms/step\n",
      "1/1 [==============================] - 0s 47ms/step\n",
      "1/1 [==============================] - 0s 37ms/step\n",
      "1/1 [==============================] - 0s 37ms/step\n",
      "1/1 [==============================] - 0s 29ms/step\n",
      "1/1 [==============================] - 0s 32ms/step\n",
      "1/1 [==============================] - 0s 48ms/step\n",
      "1/1 [==============================] - 0s 35ms/step\n",
      "1/1 [==============================] - 0s 38ms/step\n",
      "1/1 [==============================] - 0s 37ms/step\n",
      "1/1 [==============================] - 0s 45ms/step\n",
      "1/1 [==============================] - 0s 98ms/step\n",
      "1/1 [==============================] - 0s 42ms/step\n",
      "1/1 [==============================] - 0s 56ms/step\n",
      "1/1 [==============================] - 0s 38ms/step\n",
      "1/1 [==============================] - 0s 36ms/step\n",
      "1/1 [==============================] - 0s 68ms/step\n",
      "1/1 [==============================] - 0s 34ms/step\n",
      "1/1 [==============================] - 0s 64ms/step\n",
      "1/1 [==============================] - 0s 47ms/step\n"
     ]
    }
   ],
   "source": [
    "from copy import deepcopy\n",
    "\n",
    "recursive_predictions = []\n",
    "recursive_dates = np.concatenate([dates_val, dates_test])\n",
    "\n",
    "for target_date in recursive_dates:\n",
    "  last_window = deepcopy(X_train[-1])\n",
    "  next_prediction = model.predict(np.array([last_window])).flatten()\n",
    "  recursive_predictions.append(next_prediction)\n",
    "  last_window[-1] = next_prediction"
   ]
  },
  {
   "cell_type": "code",
   "execution_count": null,
   "id": "d407d1d5",
   "metadata": {},
   "outputs": [],
   "source": []
  }
 ],
 "metadata": {
  "kernelspec": {
   "display_name": "Python 3 (ipykernel)",
   "language": "python",
   "name": "python3"
  },
  "language_info": {
   "codemirror_mode": {
    "name": "ipython",
    "version": 3
   },
   "file_extension": ".py",
   "mimetype": "text/x-python",
   "name": "python",
   "nbconvert_exporter": "python",
   "pygments_lexer": "ipython3",
   "version": "3.9.12"
  }
 },
 "nbformat": 4,
 "nbformat_minor": 5
}
