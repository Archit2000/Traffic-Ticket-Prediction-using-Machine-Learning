{
 "cells": [
  {
   "cell_type": "code",
   "execution_count": null,
   "id": "504926b1",
   "metadata": {},
   "outputs": [],
   "source": [
    "import urllib.request, json \n",
    "import pandas as pd\n",
    "import mysql.connector"
   ]
  },
  {
   "cell_type": "code",
   "execution_count": null,
   "id": "58b3253e",
   "metadata": {},
   "outputs": [],
   "source": [
    "min_summons_number = 0"
   ]
  },
  {
   "cell_type": "code",
   "execution_count": null,
   "id": "74eb6a64",
   "metadata": {},
   "outputs": [],
   "source": [
    "def convert24(str1):\n",
    "     \n",
    "    # Checking if last two elements of time\n",
    "    # is AM and first two elements are 12\n",
    "    if str1[-2:] == \"AM\" and str1[:2] == \"12\":\n",
    "        return \"00\" + str1[2:-2]\n",
    "         \n",
    "    # remove the AM    \n",
    "    elif str1[-2:] == \"AM\":\n",
    "        return str1[:-2]\n",
    "     \n",
    "    # Checking if last two elements of time\n",
    "    # is PM and first two elements are 12\n",
    "    elif str1[-2:] == \"PM\" and str1[:2] == \"12\":\n",
    "        return str1[:-2]\n",
    "         \n",
    "    else:\n",
    "         \n",
    "        # add 12 to hours and remove PM\n",
    "        return str(int(str1[:2]) + 12) + str1[2:8]"
   ]
  },
  {
   "cell_type": "code",
   "execution_count": null,
   "id": "83e5dc6e",
   "metadata": {},
   "outputs": [],
   "source": [
    "def converttotime(str1):\n",
    "    #print(str1[-1])\n",
    "    str2 = \"\"\n",
    "    str2 = str1[-5:-3]+\":\"+str1[-3:-1]+\":00\"\n",
    "    if str1[-1] == 'A':\n",
    "        str2 = str2+\" AM\"\n",
    "    else: \n",
    "        str2 = str2+\" PM\"\n",
    "    return str2"
   ]
  },
  {
   "cell_type": "code",
   "execution_count": null,
   "id": "2a161c13",
   "metadata": {},
   "outputs": [],
   "source": [
    "df = pd.read_csv('web_scrape.csv')\n",
    "USER = df.loc[0,'Column 2']\n",
    "PASSWORD = df.loc[0,'Column 3']\n",
    "PAGINATION = int(df.loc[1,'Column 3'])"
   ]
  },
  {
   "cell_type": "code",
   "execution_count": null,
   "id": "23ed05e2",
   "metadata": {},
   "outputs": [],
   "source": [
    "api_url = \"https://data.cityofnewyork.us/resource/pvqr-7yc4.json?$limit=100&$offset=\""
   ]
  },
  {
   "cell_type": "code",
   "execution_count": null,
   "id": "a6062da2",
   "metadata": {},
   "outputs": [],
   "source": [
    "def into_database(data):\n",
    "    for i in range(0,len(data)):\n",
    "        try:\n",
    "            mydb = mysql.connector.connect(\n",
    "              host=\"localhost\",\n",
    "              user=USER,\n",
    "              password=PASSWORD,\n",
    "              database=\"dmdw\"\n",
    "            )\n",
    "            summons_number = int(data[i]['summons_number'])\n",
    "            violation_code = int(data[i]['violation_code'])\n",
    "            date = data[i]['issue_date'][0:10] + \" \" +convert24(converttotime(data[i]['violation_time']))\n",
    "            violation_location = int(data[i]['violation_location'])\n",
    "            sql = \"insert into ticket values(\"+str(summons_number)+\",\"+str(violation_code)+\",'\"+date+\"',\"+str(violation_location)+\")\"\n",
    "            mycursor = mydb.cursor()\n",
    "            mycursor.execute(sql)\n",
    "            mydb.commit()\n",
    "            mycursor.close()\n",
    "            mydb.close()\n",
    "            #print(sql)\n",
    "        except Exception as e: print(e)"
   ]
  },
  {
   "cell_type": "code",
   "execution_count": null,
   "id": "0528edee",
   "metadata": {
    "scrolled": true
   },
   "outputs": [],
   "source": [
    "i = 1294336\n",
    "while True:\n",
    "    i = i+99\n",
    "    temp = api_url + str(i)\n",
    "    print(temp)\n",
    "    try:\n",
    "        with urllib.request.urlopen(temp) as url:\n",
    "            data = json.loads(url.read().decode())\n",
    "        into_database(data)\n",
    "    except Exception as e: print(e)\n"
   ]
  },
  {
   "cell_type": "markdown",
   "id": "7f056884",
   "metadata": {},
   "source": [
    "# mydb = mysql.connector.connect(\n",
    "  host=\"localhost\",\n",
    "  user=USER,\n",
    "  password=PASSWORD,\n",
    "  database=\"dmdw\"\n",
    ")\n",
    "sql = 'delete from ticket'\n",
    "mycursor = mydb.cursor()\n",
    "mycursor.execute(sql)\n",
    "mydb.commit()\n",
    "mycursor.close()\n",
    "mydb.close()"
   ]
  },
  {
   "cell_type": "code",
   "execution_count": null,
   "id": "b4c36a5a",
   "metadata": {},
   "outputs": [],
   "source": []
  }
 ],
 "metadata": {
  "kernelspec": {
   "display_name": "Python 3 (ipykernel)",
   "language": "python",
   "name": "python3"
  },
  "language_info": {
   "codemirror_mode": {
    "name": "ipython",
    "version": 3
   },
   "file_extension": ".py",
   "mimetype": "text/x-python",
   "name": "python",
   "nbconvert_exporter": "python",
   "pygments_lexer": "ipython3",
   "version": "3.9.12"
  }
 },
 "nbformat": 4,
 "nbformat_minor": 5
}
