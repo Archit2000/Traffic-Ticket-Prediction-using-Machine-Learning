{
 "cells": [
  {
   "cell_type": "markdown",
   "id": "894a6c9b",
   "metadata": {},
   "source": [
    "https://www.youtube.com/watch?v=8FCDpFhd1zk"
   ]
  },
  {
   "cell_type": "code",
   "execution_count": 43,
   "id": "03df62dd",
   "metadata": {},
   "outputs": [],
   "source": [
    "import pandas as pd\n",
    "import numpy as np\n",
    "import seaborn as sn\n",
    "import matplotlib.pyplot as plt\n",
    "from pmdarima import auto_arima\n",
    "from statsmodels.tsa.stattools import adfuller\n",
    "import statsmodels.api as sm\n",
    "import datetime"
   ]
  },
  {
   "cell_type": "code",
   "execution_count": 44,
   "id": "5df7cf0d",
   "metadata": {},
   "outputs": [],
   "source": [
    "def str_to_datetime(s):\n",
    "    split_temp = s.split(' ')\n",
    "    date = split_temp[0].split('/')\n",
    "    time = []\n",
    "    time.append(split_temp[1][0:2])\n",
    "    time.append(split_temp[1][3:5])\n",
    "    time.append(split_temp[1][6:8])\n",
    "    year, month, day = int('20' + date[0]), int(date[1]), int(date[2])\n",
    "    hour, minutes, seconds = int(time[0]), int(time[1]), int(time[2])\n",
    "    return datetime.datetime(year=year, month=month, day=day, hour=hour,minute=minutes,second=seconds)"
   ]
  },
  {
   "cell_type": "code",
   "execution_count": 45,
   "id": "d4d65b04",
   "metadata": {},
   "outputs": [
    {
     "data": {
      "text/html": [
       "<div>\n",
       "<style scoped>\n",
       "    .dataframe tbody tr th:only-of-type {\n",
       "        vertical-align: middle;\n",
       "    }\n",
       "\n",
       "    .dataframe tbody tr th {\n",
       "        vertical-align: top;\n",
       "    }\n",
       "\n",
       "    .dataframe thead th {\n",
       "        text-align: right;\n",
       "    }\n",
       "</style>\n",
       "<table border=\"1\" class=\"dataframe\">\n",
       "  <thead>\n",
       "    <tr style=\"text-align: right;\">\n",
       "      <th></th>\n",
       "      <th>Count</th>\n",
       "    </tr>\n",
       "    <tr>\n",
       "      <th>Date</th>\n",
       "      <th></th>\n",
       "    </tr>\n",
       "  </thead>\n",
       "  <tbody>\n",
       "    <tr>\n",
       "      <th>2022-07-01 00:00:00</th>\n",
       "      <td>362</td>\n",
       "    </tr>\n",
       "    <tr>\n",
       "      <th>2022-07-01 01:00:00</th>\n",
       "      <td>486</td>\n",
       "    </tr>\n",
       "    <tr>\n",
       "      <th>2022-07-01 02:00:00</th>\n",
       "      <td>363</td>\n",
       "    </tr>\n",
       "    <tr>\n",
       "      <th>2022-07-01 03:00:00</th>\n",
       "      <td>225</td>\n",
       "    </tr>\n",
       "    <tr>\n",
       "      <th>2022-07-01 04:00:00</th>\n",
       "      <td>116</td>\n",
       "    </tr>\n",
       "  </tbody>\n",
       "</table>\n",
       "</div>"
      ],
      "text/plain": [
       "                     Count\n",
       "Date                      \n",
       "2022-07-01 00:00:00    362\n",
       "2022-07-01 01:00:00    486\n",
       "2022-07-01 02:00:00    363\n",
       "2022-07-01 03:00:00    225\n",
       "2022-07-01 04:00:00    116"
      ]
     },
     "execution_count": 45,
     "metadata": {},
     "output_type": "execute_result"
    }
   ],
   "source": [
    "df = pd.read_csv('ticket data.csv',index_col=0)\n",
    "df['Date'] = df['Date'].apply(str_to_datetime)\n",
    "df.index = df.pop('Date')\n",
    "df.head()"
   ]
  },
  {
   "cell_type": "code",
   "execution_count": 46,
   "id": "cfea31d7",
   "metadata": {},
   "outputs": [
    {
     "data": {
      "text/plain": [
       "DatetimeIndex(['2022-07-01 00:00:00', '2022-07-01 01:00:00',\n",
       "               '2022-07-01 02:00:00', '2022-07-01 03:00:00',\n",
       "               '2022-07-01 04:00:00', '2022-07-01 05:00:00',\n",
       "               '2022-07-01 06:00:00', '2022-07-01 07:00:00',\n",
       "               '2022-07-01 08:00:00', '2022-07-01 09:00:00',\n",
       "               ...\n",
       "               '2022-07-27 09:00:00', '2022-07-27 10:00:00',\n",
       "               '2022-07-27 11:00:00', '2022-07-27 12:00:00',\n",
       "               '2022-07-27 18:00:00', '2022-07-27 22:00:00',\n",
       "               '2022-07-30 00:00:00', '2022-07-30 03:00:00',\n",
       "               '2022-07-30 18:00:00', '2022-07-30 21:00:00'],\n",
       "              dtype='datetime64[ns]', name='Date', length=637, freq=None)"
      ]
     },
     "execution_count": 46,
     "metadata": {},
     "output_type": "execute_result"
    }
   ],
   "source": [
    "df.index"
   ]
  },
  {
   "cell_type": "code",
   "execution_count": 47,
   "id": "a72a0030",
   "metadata": {},
   "outputs": [
    {
     "data": {
      "text/html": [
       "<div>\n",
       "<style scoped>\n",
       "    .dataframe tbody tr th:only-of-type {\n",
       "        vertical-align: middle;\n",
       "    }\n",
       "\n",
       "    .dataframe tbody tr th {\n",
       "        vertical-align: top;\n",
       "    }\n",
       "\n",
       "    .dataframe thead th {\n",
       "        text-align: right;\n",
       "    }\n",
       "</style>\n",
       "<table border=\"1\" class=\"dataframe\">\n",
       "  <thead>\n",
       "    <tr style=\"text-align: right;\">\n",
       "      <th></th>\n",
       "      <th>Count</th>\n",
       "    </tr>\n",
       "    <tr>\n",
       "      <th>Date</th>\n",
       "      <th></th>\n",
       "    </tr>\n",
       "  </thead>\n",
       "  <tbody>\n",
       "    <tr>\n",
       "      <th>2022-07-01 00:00:00</th>\n",
       "      <td>362</td>\n",
       "    </tr>\n",
       "    <tr>\n",
       "      <th>2022-07-01 01:00:00</th>\n",
       "      <td>486</td>\n",
       "    </tr>\n",
       "    <tr>\n",
       "      <th>2022-07-01 02:00:00</th>\n",
       "      <td>363</td>\n",
       "    </tr>\n",
       "    <tr>\n",
       "      <th>2022-07-01 03:00:00</th>\n",
       "      <td>225</td>\n",
       "    </tr>\n",
       "    <tr>\n",
       "      <th>2022-07-01 04:00:00</th>\n",
       "      <td>116</td>\n",
       "    </tr>\n",
       "  </tbody>\n",
       "</table>\n",
       "</div>"
      ],
      "text/plain": [
       "                     Count\n",
       "Date                      \n",
       "2022-07-01 00:00:00    362\n",
       "2022-07-01 01:00:00    486\n",
       "2022-07-01 02:00:00    363\n",
       "2022-07-01 03:00:00    225\n",
       "2022-07-01 04:00:00    116"
      ]
     },
     "execution_count": 47,
     "metadata": {},
     "output_type": "execute_result"
    }
   ],
   "source": [
    "df.head()"
   ]
  },
  {
   "cell_type": "code",
   "execution_count": 48,
   "id": "a3536ea7",
   "metadata": {},
   "outputs": [
    {
     "data": {
      "text/plain": [
       "<AxesSubplot:xlabel='Date'>"
      ]
     },
     "execution_count": 48,
     "metadata": {},
     "output_type": "execute_result"
    },
    {
     "data": {
      "image/png": "[encoded data removed]",
      "text/plain": [
       "<Figure size 864x360 with 1 Axes>"
      ]
     },
     "metadata": {
      "needs_background": "light"
     },
     "output_type": "display_data"
    }
   ],
   "source": [
    "df['Count'].plot(figsize=(12,5))"
   ]
  },
  {
   "cell_type": "code",
   "execution_count": 49,
   "id": "ff9d2158",
   "metadata": {},
   "outputs": [
    {
     "name": "stdout",
     "output_type": "stream",
     "text": [
      "1. ADF :  -2.902358958690335\n",
      "2. P-Value :  0.04507436954451037\n",
      "3. Num Of Lags :  20\n",
      "4. Num Of Observations Used For ADF Regression: 616\n",
      "5. Critical Values :\n",
      "\t 1% :  -3.4410103235939746\n",
      "\t 5% :  -2.866243374831338\n",
      "\t 10% :  -2.5692748053002195\n"
     ]
    }
   ],
   "source": [
    "def ad_test(dataset):\n",
    "     dftest = adfuller(dataset, autolag = 'AIC')\n",
    "     print(\"1. ADF : \",dftest[0])\n",
    "     print(\"2. P-Value : \", dftest[1])\n",
    "     print(\"3. Num Of Lags : \", dftest[2])\n",
    "     print(\"4. Num Of Observations Used For ADF Regression:\",      dftest[3])\n",
    "     print(\"5. Critical Values :\")\n",
    "     for key, val in dftest[4].items():\n",
    "         print(\"\\t\",key, \": \", val)\n",
    "ad_test(df['Count'])"
   ]
  },
  {
   "cell_type": "code",
   "execution_count": 50,
   "id": "037c7669",
   "metadata": {},
   "outputs": [
    {
     "name": "stdout",
     "output_type": "stream",
     "text": [
      "Performing stepwise search to minimize aic\n",
      " ARIMA(2,0,2)(0,0,0)[0] intercept   : AIC=9858.284, Time=0.45 sec\n",
      " ARIMA(0,0,0)(0,0,0)[0] intercept   : AIC=10869.898, Time=0.03 sec\n",
      " ARIMA(1,0,0)(0,0,0)[0] intercept   : AIC=9910.681, Time=0.06 sec\n",
      " ARIMA(0,0,1)(0,0,0)[0] intercept   : AIC=10259.994, Time=0.39 sec\n",
      " ARIMA(0,0,0)(0,0,0)[0]             : AIC=11193.968, Time=0.02 sec\n",
      " ARIMA(1,0,2)(0,0,0)[0] intercept   : AIC=9867.807, Time=0.18 sec\n",
      " ARIMA(2,0,1)(0,0,0)[0] intercept   : AIC=9844.922, Time=0.85 sec\n",
      " ARIMA(1,0,1)(0,0,0)[0] intercept   : AIC=9872.374, Time=0.17 sec\n",
      " ARIMA(2,0,0)(0,0,0)[0] intercept   : AIC=9874.562, Time=0.14 sec\n",
      " ARIMA(3,0,1)(0,0,0)[0] intercept   : AIC=9855.855, Time=0.61 sec\n",
      " ARIMA(3,0,0)(0,0,0)[0] intercept   : AIC=9876.362, Time=0.19 sec\n",
      " ARIMA(3,0,2)(0,0,0)[0] intercept   : AIC=inf, Time=1.65 sec\n",
      " ARIMA(2,0,1)(0,0,0)[0]             : AIC=9871.273, Time=0.35 sec\n",
      "\n",
      "Best model:  ARIMA(2,0,1)(0,0,0)[0] intercept\n",
      "Total fit time: 5.078 seconds\n"
     ]
    }
   ],
   "source": [
    "stepwise_fit = auto_arima(df['Count'], trace=True,\n",
    "suppress_warnings=True)"
   ]
  },
  {
   "cell_type": "code",
   "execution_count": 51,
   "id": "752bff3a",
   "metadata": {},
   "outputs": [
    {
     "name": "stdout",
     "output_type": "stream",
     "text": [
      "(637, 1)\n",
      "(607, 1) (30, 1)\n"
     ]
    }
   ],
   "source": [
    "print(df.shape)\n",
    "train=df.iloc[:-30]\n",
    "test=df.iloc[-30:]\n",
    "print(train.shape,test.shape)"
   ]
  },
  {
   "cell_type": "code",
   "execution_count": 52,
   "id": "3126cc32",
   "metadata": {},
   "outputs": [
    {
     "name": "stderr",
     "output_type": "stream",
     "text": [
      "C:\\Users\\Archit\\Anaconda3\\lib\\site-packages\\statsmodels\\tsa\\base\\tsa_model.py:471: ValueWarning: A date index has been provided, but it has no associated frequency information and so will be ignored when e.g. forecasting.\n",
      "  self._init_dates(dates, freq)\n",
      "C:\\Users\\Archit\\Anaconda3\\lib\\site-packages\\statsmodels\\tsa\\base\\tsa_model.py:471: ValueWarning: A date index has been provided, but it has no associated frequency information and so will be ignored when e.g. forecasting.\n",
      "  self._init_dates(dates, freq)\n",
      "C:\\Users\\Archit\\Anaconda3\\lib\\site-packages\\statsmodels\\tsa\\base\\tsa_model.py:471: ValueWarning: A date index has been provided, but it has no associated frequency information and so will be ignored when e.g. forecasting.\n",
      "  self._init_dates(dates, freq)\n"
     ]
    },
    {
     "data": {
      "text/html": [
       "<table class=\"simpletable\">\n",
       "<caption>SARIMAX Results</caption>\n",
       "<tr>\n",
       "  <th>Dep. Variable:</th>         <td>Count</td>      <th>  No. Observations:  </th>    <td>607</td>   \n",
       "</tr>\n",
       "<tr>\n",
       "  <th>Model:</th>            <td>ARIMA(2, 0, 1)</td>  <th>  Log Likelihood     </th> <td>-4693.373</td>\n",
       "</tr>\n",
       "<tr>\n",
       "  <th>Date:</th>            <td>Tue, 04 Oct 2022</td> <th>  AIC                </th> <td>9396.746</td> \n",
       "</tr>\n",
       "<tr>\n",
       "  <th>Time:</th>                <td>08:41:58</td>     <th>  BIC                </th> <td>9418.788</td> \n",
       "</tr>\n",
       "<tr>\n",
       "  <th>Sample:</th>                  <td>0</td>        <th>  HQIC               </th> <td>9405.322</td> \n",
       "</tr>\n",
       "<tr>\n",
       "  <th></th>                      <td> - 607</td>      <th>                     </th>     <td> </td>    \n",
       "</tr>\n",
       "<tr>\n",
       "  <th>Covariance Type:</th>        <td>opg</td>       <th>                     </th>     <td> </td>    \n",
       "</tr>\n",
       "</table>\n",
       "<table class=\"simpletable\">\n",
       "<tr>\n",
       "     <td></td>       <th>coef</th>     <th>std err</th>      <th>z</th>      <th>P>|z|</th>  <th>[0.025</th>    <th>0.975]</th>  \n",
       "</tr>\n",
       "<tr>\n",
       "  <th>const</th>  <td> 1017.1189</td> <td>  157.569</td> <td>    6.455</td> <td> 0.000</td> <td>  708.289</td> <td> 1325.949</td>\n",
       "</tr>\n",
       "<tr>\n",
       "  <th>ar.L1</th>  <td>    1.7705</td> <td>    0.057</td> <td>   31.009</td> <td> 0.000</td> <td>    1.659</td> <td>    1.882</td>\n",
       "</tr>\n",
       "<tr>\n",
       "  <th>ar.L2</th>  <td>   -0.8337</td> <td>    0.052</td> <td>  -15.927</td> <td> 0.000</td> <td>   -0.936</td> <td>   -0.731</td>\n",
       "</tr>\n",
       "<tr>\n",
       "  <th>ma.L1</th>  <td>   -0.7808</td> <td>    0.071</td> <td>  -11.067</td> <td> 0.000</td> <td>   -0.919</td> <td>   -0.642</td>\n",
       "</tr>\n",
       "<tr>\n",
       "  <th>sigma2</th> <td> 3.035e+05</td> <td> 1.23e+04</td> <td>   24.723</td> <td> 0.000</td> <td> 2.79e+05</td> <td> 3.28e+05</td>\n",
       "</tr>\n",
       "</table>\n",
       "<table class=\"simpletable\">\n",
       "<tr>\n",
       "  <th>Ljung-Box (L1) (Q):</th>     <td>1.23</td> <th>  Jarque-Bera (JB):  </th> <td>1070.99</td>\n",
       "</tr>\n",
       "<tr>\n",
       "  <th>Prob(Q):</th>                <td>0.27</td> <th>  Prob(JB):          </th>  <td>0.00</td>  \n",
       "</tr>\n",
       "<tr>\n",
       "  <th>Heteroskedasticity (H):</th> <td>1.23</td> <th>  Skew:              </th>  <td>1.38</td>  \n",
       "</tr>\n",
       "<tr>\n",
       "  <th>Prob(H) (two-sided):</th>    <td>0.14</td> <th>  Kurtosis:          </th>  <td>8.89</td>  \n",
       "</tr>\n",
       "</table><br/><br/>Warnings:<br/>[1] Covariance matrix calculated using the outer product of gradients (complex-step)."
      ],
      "text/plain": [
       "<class 'statsmodels.iolib.summary.Summary'>\n",
       "\"\"\"\n",
       "                               SARIMAX Results                                \n",
       "==============================================================================\n",
       "Dep. Variable:                  Count   No. Observations:                  607\n",
       "Model:                 ARIMA(2, 0, 1)   Log Likelihood               -4693.373\n",
       "Date:                Tue, 04 Oct 2022   AIC                           9396.746\n",
       "Time:                        08:41:58   BIC                           9418.788\n",
       "Sample:                             0   HQIC                          9405.322\n",
       "                                - 607                                         \n",
       "Covariance Type:                  opg                                         \n",
       "==============================================================================\n",
       "                 coef    std err          z      P>|z|      [0.025      0.975]\n",
       "------------------------------------------------------------------------------\n",
       "const       1017.1189    157.569      6.455      0.000     708.289    1325.949\n",
       "ar.L1          1.7705      0.057     31.009      0.000       1.659       1.882\n",
       "ar.L2         -0.8337      0.052    -15.927      0.000      -0.936      -0.731\n",
       "ma.L1         -0.7808      0.071    -11.067      0.000      -0.919      -0.642\n",
       "sigma2      3.035e+05   1.23e+04     24.723      0.000    2.79e+05    3.28e+05\n",
       "===================================================================================\n",
       "Ljung-Box (L1) (Q):                   1.23   Jarque-Bera (JB):              1070.99\n",
       "Prob(Q):                              0.27   Prob(JB):                         0.00\n",
       "Heteroskedasticity (H):               1.23   Skew:                             1.38\n",
       "Prob(H) (two-sided):                  0.14   Kurtosis:                         8.89\n",
       "===================================================================================\n",
       "\n",
       "Warnings:\n",
       "[1] Covariance matrix calculated using the outer product of gradients (complex-step).\n",
       "\"\"\""
      ]
     },
     "execution_count": 52,
     "metadata": {},
     "output_type": "execute_result"
    }
   ],
   "source": [
    "model = sm.tsa.arima.ARIMA(train['Count'],order=(2,0,1))\n",
    "model=model.fit()\n",
    "model.summary()"
   ]
  },
  {
   "cell_type": "code",
   "execution_count": 53,
   "id": "4dc32e34",
   "metadata": {},
   "outputs": [
    {
     "name": "stderr",
     "output_type": "stream",
     "text": [
      "C:\\Users\\Archit\\Anaconda3\\lib\\site-packages\\statsmodels\\tsa\\base\\tsa_model.py:834: ValueWarning: No supported index is available. Prediction results will be given with an integer index beginning at `start`.\n",
      "  return get_prediction_index(\n"
     ]
    },
    {
     "data": {
      "text/plain": [
       "<AxesSubplot:xlabel='Date'>"
      ]
     },
     "execution_count": 53,
     "metadata": {},
     "output_type": "execute_result"
    },
    {
     "data": {
      "image/png": "[encoded data removed]",
      "text/plain": [
       "<Figure size 432x288 with 1 Axes>"
      ]
     },
     "metadata": {
      "needs_background": "light"
     },
     "output_type": "display_data"
    }
   ],
   "source": [
    "start=len(train)\n",
    "end=len(train)+len(test)-1\n",
    "pred=model.predict(start=start,end=end,typ='levels').rename('ARIMA Predictions')\n",
    "pred.plot(legend=True)\n",
    "test['Count'].plot(legend=True)"
   ]
  },
  {
   "cell_type": "code",
   "execution_count": 54,
   "id": "b17a3e0b",
   "metadata": {},
   "outputs": [
    {
     "name": "stdout",
     "output_type": "stream",
     "text": [
      "1008.5492745862296\n"
     ]
    }
   ],
   "source": [
    "from sklearn.metrics import mean_squared_error\n",
    "from math import sqrt\n",
    "test['Count'].mean()\n",
    "rmse=sqrt(mean_squared_error(pred,test['Count']))\n",
    "print(rmse)"
   ]
  },
  {
   "cell_type": "code",
   "execution_count": null,
   "id": "e7fbac27",
   "metadata": {},
   "outputs": [],
   "source": []
  }
 ],
 "metadata": {
  "kernelspec": {
   "display_name": "Python 3 (ipykernel)",
   "language": "python",
   "name": "python3"
  },
  "language_info": {
   "codemirror_mode": {
    "name": "ipython",
    "version": 3
   },
   "file_extension": ".py",
   "mimetype": "text/x-python",
   "name": "python",
   "nbconvert_exporter": "python",
   "pygments_lexer": "ipython3",
   "version": "3.9.12"
  }
 },
 "nbformat": 4,
 "nbformat_minor": 5
}
